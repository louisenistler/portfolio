{
 "cells": [
  {
   "cell_type": "code",
   "execution_count": 1,
   "metadata": {},
   "outputs": [],
   "source": [
    "from simply import redshift, simple_colors\n",
    "from matplotlib import pyplot as plt\n",
    "import pandas as pd\n",
    "import seaborn as sns\n",
    "import numpy as np\n",
    "from scipy import stats"
   ]
  },
  {
   "cell_type": "markdown",
   "metadata": {},
   "source": [
    "## Contact for All Clients (12/19-12/23)"
   ]
  },
  {
   "cell_type": "code",
   "execution_count": 2,
   "metadata": {},
   "outputs": [],
   "source": [
    "contact_df = redshift(\"\"\"contact_query.sql\"\"\")"
   ]
  },
  {
   "cell_type": "code",
   "execution_count": 29,
   "metadata": {},
   "outputs": [],
   "source": [
    "android_web_contact_df = redshift(\"\"\"android_web_contact_query.sql\"\"\")"
   ]
  },
  {
   "cell_type": "code",
   "execution_count": 3,
   "metadata": {},
   "outputs": [
    {
     "data": {
      "text/html": [
       "<div>\n",
       "<style scoped>\n",
       "    .dataframe tbody tr th:only-of-type {\n",
       "        vertical-align: middle;\n",
       "    }\n",
       "\n",
       "    .dataframe tbody tr th {\n",
       "        vertical-align: top;\n",
       "    }\n",
       "\n",
       "    .dataframe thead th {\n",
       "        text-align: right;\n",
       "    }\n",
       "</style>\n",
       "<table border=\"1\" class=\"dataframe\">\n",
       "  <thead>\n",
       "    <tr style=\"text-align: right;\">\n",
       "      <th></th>\n",
       "      <th>user_ref</th>\n",
       "      <th>test_group</th>\n",
       "      <th>num_cases</th>\n",
       "      <th>num_calls</th>\n",
       "      <th>phone_new_card</th>\n",
       "      <th>num_chats</th>\n",
       "      <th>num_messages</th>\n",
       "      <th>chat_new_card</th>\n",
       "      <th>messages_new_card</th>\n",
       "    </tr>\n",
       "  </thead>\n",
       "  <tbody>\n",
       "    <tr>\n",
       "      <th>0</th>\n",
       "      <td>73b16ccc-1d7f-45ab-b5bc-2111c5c4d82b</td>\n",
       "      <td>TEST</td>\n",
       "      <td>0</td>\n",
       "      <td>0</td>\n",
       "      <td>0</td>\n",
       "      <td>0</td>\n",
       "      <td>0</td>\n",
       "      <td>0</td>\n",
       "      <td>0</td>\n",
       "    </tr>\n",
       "    <tr>\n",
       "      <th>1</th>\n",
       "      <td>980a3abb-6a8a-470a-af87-30d6d4a52b17</td>\n",
       "      <td>CONTROL</td>\n",
       "      <td>1</td>\n",
       "      <td>0</td>\n",
       "      <td>0</td>\n",
       "      <td>0</td>\n",
       "      <td>1</td>\n",
       "      <td>0</td>\n",
       "      <td>0</td>\n",
       "    </tr>\n",
       "    <tr>\n",
       "      <th>2</th>\n",
       "      <td>a8e65826-9634-4500-a386-049f96c61cbd</td>\n",
       "      <td>CONTROL</td>\n",
       "      <td>0</td>\n",
       "      <td>0</td>\n",
       "      <td>0</td>\n",
       "      <td>0</td>\n",
       "      <td>0</td>\n",
       "      <td>0</td>\n",
       "      <td>0</td>\n",
       "    </tr>\n",
       "    <tr>\n",
       "      <th>3</th>\n",
       "      <td>a0a04c7c-6d6d-4600-95f6-91f5e6852a20</td>\n",
       "      <td>TEST</td>\n",
       "      <td>0</td>\n",
       "      <td>0</td>\n",
       "      <td>0</td>\n",
       "      <td>0</td>\n",
       "      <td>0</td>\n",
       "      <td>0</td>\n",
       "      <td>0</td>\n",
       "    </tr>\n",
       "    <tr>\n",
       "      <th>4</th>\n",
       "      <td>9972e9f8-5274-414e-afef-c67f3e4936df</td>\n",
       "      <td>CONTROL</td>\n",
       "      <td>0</td>\n",
       "      <td>0</td>\n",
       "      <td>0</td>\n",
       "      <td>0</td>\n",
       "      <td>0</td>\n",
       "      <td>0</td>\n",
       "      <td>0</td>\n",
       "    </tr>\n",
       "  </tbody>\n",
       "</table>\n",
       "</div>"
      ],
      "text/plain": [
       "                               user_ref test_group  num_cases  num_calls  \\\n",
       "0  73b16ccc-1d7f-45ab-b5bc-2111c5c4d82b       TEST          0          0   \n",
       "1  980a3abb-6a8a-470a-af87-30d6d4a52b17    CONTROL          1          0   \n",
       "2  a8e65826-9634-4500-a386-049f96c61cbd    CONTROL          0          0   \n",
       "3  a0a04c7c-6d6d-4600-95f6-91f5e6852a20       TEST          0          0   \n",
       "4  9972e9f8-5274-414e-afef-c67f3e4936df    CONTROL          0          0   \n",
       "\n",
       "   phone_new_card  num_chats  num_messages  chat_new_card  messages_new_card  \n",
       "0               0          0             0              0                  0  \n",
       "1               0          0             1              0                  0  \n",
       "2               0          0             0              0                  0  \n",
       "3               0          0             0              0                  0  \n",
       "4               0          0             0              0                  0  "
      ]
     },
     "execution_count": 3,
     "metadata": {},
     "output_type": "execute_result"
    }
   ],
   "source": [
    "contact_df.head()"
   ]
  },
  {
   "cell_type": "code",
   "execution_count": 4,
   "metadata": {},
   "outputs": [
    {
     "data": {
      "text/plain": [
       "68374"
      ]
     },
     "execution_count": 4,
     "metadata": {},
     "output_type": "execute_result"
    }
   ],
   "source": [
    "contact_df[contact_df.test_group == 'TEST'].user_ref.count()"
   ]
  },
  {
   "cell_type": "code",
   "execution_count": 6,
   "metadata": {},
   "outputs": [
    {
     "data": {
      "text/plain": [
       "68328"
      ]
     },
     "execution_count": 6,
     "metadata": {},
     "output_type": "execute_result"
    }
   ],
   "source": [
    "contact_df[contact_df.test_group == 'CONTROL'].user_ref.count()"
   ]
  },
  {
   "cell_type": "code",
   "execution_count": 23,
   "metadata": {},
   "outputs": [
    {
     "data": {
      "text/plain": [
       "40303"
      ]
     },
     "execution_count": 23,
     "metadata": {},
     "output_type": "execute_result"
    }
   ],
   "source": [
    "android_web_contact_df[android_web_contact_df.test_group == 'TEST'].user_ref.count()"
   ]
  },
  {
   "cell_type": "code",
   "execution_count": 24,
   "metadata": {},
   "outputs": [
    {
     "data": {
      "text/plain": [
       "40190"
      ]
     },
     "execution_count": 24,
     "metadata": {},
     "output_type": "execute_result"
    }
   ],
   "source": [
    "android_web_contact_df[android_web_contact_df.test_group == 'CONTROL'].user_ref.count()"
   ]
  },
  {
   "cell_type": "code",
   "execution_count": 7,
   "metadata": {},
   "outputs": [
    {
     "data": {
      "text/html": [
       "<div>\n",
       "<style scoped>\n",
       "    .dataframe tbody tr th:only-of-type {\n",
       "        vertical-align: middle;\n",
       "    }\n",
       "\n",
       "    .dataframe tbody tr th {\n",
       "        vertical-align: top;\n",
       "    }\n",
       "\n",
       "    .dataframe thead th {\n",
       "        text-align: right;\n",
       "    }\n",
       "</style>\n",
       "<table border=\"1\" class=\"dataframe\">\n",
       "  <thead>\n",
       "    <tr style=\"text-align: right;\">\n",
       "      <th></th>\n",
       "      <th>num_cases</th>\n",
       "      <th>num_calls</th>\n",
       "      <th>phone_new_card</th>\n",
       "      <th>num_chats</th>\n",
       "      <th>num_messages</th>\n",
       "      <th>chat_new_card</th>\n",
       "      <th>messages_new_card</th>\n",
       "    </tr>\n",
       "  </thead>\n",
       "  <tbody>\n",
       "    <tr>\n",
       "      <th>count</th>\n",
       "      <td>136702.000000</td>\n",
       "      <td>136702.000000</td>\n",
       "      <td>136702.000000</td>\n",
       "      <td>136702.000000</td>\n",
       "      <td>136702.000000</td>\n",
       "      <td>136702.000000</td>\n",
       "      <td>136702.000000</td>\n",
       "    </tr>\n",
       "    <tr>\n",
       "      <th>mean</th>\n",
       "      <td>0.010358</td>\n",
       "      <td>0.001829</td>\n",
       "      <td>0.000358</td>\n",
       "      <td>0.000088</td>\n",
       "      <td>0.008442</td>\n",
       "      <td>0.000007</td>\n",
       "      <td>0.001902</td>\n",
       "    </tr>\n",
       "    <tr>\n",
       "      <th>std</th>\n",
       "      <td>0.132428</td>\n",
       "      <td>0.048348</td>\n",
       "      <td>0.019312</td>\n",
       "      <td>0.010120</td>\n",
       "      <td>0.114182</td>\n",
       "      <td>0.002705</td>\n",
       "      <td>0.054599</td>\n",
       "    </tr>\n",
       "    <tr>\n",
       "      <th>min</th>\n",
       "      <td>0.000000</td>\n",
       "      <td>0.000000</td>\n",
       "      <td>0.000000</td>\n",
       "      <td>0.000000</td>\n",
       "      <td>0.000000</td>\n",
       "      <td>0.000000</td>\n",
       "      <td>0.000000</td>\n",
       "    </tr>\n",
       "    <tr>\n",
       "      <th>25%</th>\n",
       "      <td>0.000000</td>\n",
       "      <td>0.000000</td>\n",
       "      <td>0.000000</td>\n",
       "      <td>0.000000</td>\n",
       "      <td>0.000000</td>\n",
       "      <td>0.000000</td>\n",
       "      <td>0.000000</td>\n",
       "    </tr>\n",
       "    <tr>\n",
       "      <th>50%</th>\n",
       "      <td>0.000000</td>\n",
       "      <td>0.000000</td>\n",
       "      <td>0.000000</td>\n",
       "      <td>0.000000</td>\n",
       "      <td>0.000000</td>\n",
       "      <td>0.000000</td>\n",
       "      <td>0.000000</td>\n",
       "    </tr>\n",
       "    <tr>\n",
       "      <th>75%</th>\n",
       "      <td>0.000000</td>\n",
       "      <td>0.000000</td>\n",
       "      <td>0.000000</td>\n",
       "      <td>0.000000</td>\n",
       "      <td>0.000000</td>\n",
       "      <td>0.000000</td>\n",
       "      <td>0.000000</td>\n",
       "    </tr>\n",
       "    <tr>\n",
       "      <th>max</th>\n",
       "      <td>10.000000</td>\n",
       "      <td>3.000000</td>\n",
       "      <td>2.000000</td>\n",
       "      <td>2.000000</td>\n",
       "      <td>10.000000</td>\n",
       "      <td>1.000000</td>\n",
       "      <td>10.000000</td>\n",
       "    </tr>\n",
       "  </tbody>\n",
       "</table>\n",
       "</div>"
      ],
      "text/plain": [
       "           num_cases      num_calls  phone_new_card      num_chats  \\\n",
       "count  136702.000000  136702.000000   136702.000000  136702.000000   \n",
       "mean        0.010358       0.001829        0.000358       0.000088   \n",
       "std         0.132428       0.048348        0.019312       0.010120   \n",
       "min         0.000000       0.000000        0.000000       0.000000   \n",
       "25%         0.000000       0.000000        0.000000       0.000000   \n",
       "50%         0.000000       0.000000        0.000000       0.000000   \n",
       "75%         0.000000       0.000000        0.000000       0.000000   \n",
       "max        10.000000       3.000000        2.000000       2.000000   \n",
       "\n",
       "        num_messages  chat_new_card  messages_new_card  \n",
       "count  136702.000000  136702.000000      136702.000000  \n",
       "mean        0.008442       0.000007           0.001902  \n",
       "std         0.114182       0.002705           0.054599  \n",
       "min         0.000000       0.000000           0.000000  \n",
       "25%         0.000000       0.000000           0.000000  \n",
       "50%         0.000000       0.000000           0.000000  \n",
       "75%         0.000000       0.000000           0.000000  \n",
       "max        10.000000       1.000000          10.000000  "
      ]
     },
     "execution_count": 7,
     "metadata": {},
     "output_type": "execute_result"
    }
   ],
   "source": [
    "contact_df.describe()"
   ]
  },
  {
   "cell_type": "code",
   "execution_count": 32,
   "metadata": {},
   "outputs": [
    {
     "data": {
      "text/plain": [
       "266"
      ]
     },
     "execution_count": 32,
     "metadata": {},
     "output_type": "execute_result"
    }
   ],
   "source": [
    "sum(android_web_contact_df.messages_new_card)"
   ]
  },
  {
   "cell_type": "code",
   "execution_count": 8,
   "metadata": {},
   "outputs": [
    {
     "data": {
      "text/plain": [
       "125"
      ]
     },
     "execution_count": 8,
     "metadata": {},
     "output_type": "execute_result"
    }
   ],
   "source": [
    "sum(contact_df[contact_df.test_group == 'TEST'].messages_new_card)"
   ]
  },
  {
   "cell_type": "code",
   "execution_count": 9,
   "metadata": {},
   "outputs": [
    {
     "data": {
      "text/plain": [
       "135"
      ]
     },
     "execution_count": 9,
     "metadata": {},
     "output_type": "execute_result"
    }
   ],
   "source": [
    "sum(contact_df[contact_df.test_group == 'CONTROL'].messages_new_card)"
   ]
  },
  {
   "cell_type": "code",
   "execution_count": 21,
   "metadata": {},
   "outputs": [
    {
     "data": {
      "image/png": "[encoded data removed]",
      "text/plain": [
       "<Figure size 1008x864 with 1 Axes>"
      ]
     },
     "metadata": {
      "needs_background": "light"
     },
     "output_type": "display_data"
    }
   ],
   "source": [
    "fig, ax = plt.subplots(figsize=(14,12))\n",
    "\n",
    "x = [0,1]\n",
    "y = [sum(contact_df[contact_df.test_group == 'TEST'].messages_new_card),sum(contact_df[contact_df.test_group == 'CONTROL'].messages_new_card)]\n",
    "\n",
    "labels = ['Test Group','Control Group']\n",
    "\n",
    "ax.set_xticks(x)\n",
    "ax.set_xticklabels(labels)\n",
    "ax.set_ylim(0,400)\n",
    "\n",
    "i = 0 #index for the first value we want\n",
    "\n",
    "for label in labels:\n",
    "    labels[i]\n",
    "    ax.annotate('Message Cases = {}'.format(y[i]), # first argument is the text you want to show on the figure\n",
    "                xy=(x[i],y[i]),\n",
    "                xytext=(x[i]-0.14,y[i]+10)\n",
    "               )\n",
    "    i = i + 1\n",
    "plt.title('Message Cases for New Card - All Clients 12/19-12/23', fontsize = 24)\n",
    "plt.ylabel('Number of Cases', fontsize = 16)\n",
    "plt.xticks(fontsize = 12)\n",
    "plt.yticks(fontsize = 12)\n",
    "bar_plot = plt.bar(x,y,color = '#706AFE')"
   ]
  },
  {
   "cell_type": "code",
   "execution_count": 26,
   "metadata": {},
   "outputs": [
    {
     "data": {
      "text/plain": [
       "0"
      ]
     },
     "execution_count": 26,
     "metadata": {},
     "output_type": "execute_result"
    }
   ],
   "source": [
    "sum(android_web_contact_df[android_web_contact_df.test_group == 'TEST'].messages_new_card)"
   ]
  },
  {
   "cell_type": "code",
   "execution_count": 31,
   "metadata": {},
   "outputs": [
    {
     "data": {
      "image/png": "[encoded data removed]",
      "text/plain": [
       "<Figure size 1008x864 with 1 Axes>"
      ]
     },
     "metadata": {
      "needs_background": "light"
     },
     "output_type": "display_data"
    }
   ],
   "source": [
    "fig, ax = plt.subplots(figsize=(14,12))\n",
    "\n",
    "x = [0,1]\n",
    "y = [sum(android_web_contact_df[android_web_contact_df.test_group == 'TEST'].messages_new_card),sum(android_web_contact_df[android_web_contact_df.test_group == 'CONTROL'].messages_new_card)]\n",
    "\n",
    "labels = ['Test Group','Control Group']\n",
    "\n",
    "ax.set_xticks(x)\n",
    "ax.set_xticklabels(labels)\n",
    "ax.set_ylim(0,400)\n",
    "\n",
    "i = 0 #index for the first value we want\n",
    "\n",
    "for label in labels:\n",
    "    labels[i]\n",
    "    ax.annotate('Message Cases = {}'.format(y[i]), # first argument is the text you want to show on the figure\n",
    "                xy=(x[i],y[i]),\n",
    "                xytext=(x[i]-0.14,y[i]+10)\n",
    "               )\n",
    "    i = i + 1\n",
    "plt.title('Message Cases for New Card - Android or Web 12/9-12/23', fontsize = 24)\n",
    "plt.ylabel('Number of Cases', fontsize = 16)\n",
    "plt.xticks(fontsize = 12)\n",
    "plt.yticks(fontsize = 12)\n",
    "bar_plot = plt.bar(x,y,color = '#706AFE')"
   ]
  },
  {
   "cell_type": "code",
   "execution_count": 11,
   "metadata": {},
   "outputs": [],
   "source": [
    "x = [0,1]\n",
    "y = [sum(contact_df[contact_df.test_group == 'TEST'].messages_new_card),sum(contact_df[contact_df.test_group == 'CONTROL'].messages_new_card)]\n",
    "\n",
    "# test = '{}'.format(y)\n",
    "# print(test)h\n",
    "\n",
    "i = 0 #index for the first value we want\n",
    "\n",
    "for label in labels:\n",
    "    labels[i]\n",
    "    ax.annotate('{}'.format(y[i]), # first argument is the text you want to show on the figure\n",
    "                xy=(x[i],y[i]),\n",
    "                xytext=(x[i],y[i]+20),\n",
    "               )\n",
    "    i = i + 1\n"
   ]
  },
  {
   "cell_type": "code",
   "execution_count": 12,
   "metadata": {},
   "outputs": [
    {
     "name": "stdout",
     "output_type": "stream",
     "text": [
      "0\n"
     ]
    }
   ],
   "source": [
    "i = 0\n",
    "labels[i]\n",
    "labels[i+1]\n",
    "print(i)"
   ]
  },
  {
   "cell_type": "code",
   "execution_count": 13,
   "metadata": {},
   "outputs": [],
   "source": [
    "# help(ax.annotate)\n",
    "# help(plt.subplots)\n",
    "# help(plt.title)"
   ]
  },
  {
   "cell_type": "code",
   "execution_count": 14,
   "metadata": {},
   "outputs": [
    {
     "data": {
      "image/png": "[encoded data removed]",
      "text/plain": [
       "<Figure size 1008x864 with 1 Axes>"
      ]
     },
     "metadata": {
      "needs_background": "light"
     },
     "output_type": "display_data"
    }
   ],
   "source": [
    "fig, ax = plt.subplots(figsize=(14,12))\n",
    "\n",
    "x = [0,1]\n",
    "y = [sum(contact_df[contact_df.test_group == 'TEST'].phone_new_card),sum(contact_df[contact_df.test_group == 'CONTROL'].phone_new_card)]\n",
    "\n",
    "labels = ['Test Group','Control Group']\n",
    "\n",
    "ax.set_xticks(x)\n",
    "ax.set_xticklabels(labels)\n",
    "ax.set_ylim(0,200)\n",
    "\n",
    "i = 0 #index for the first value we want\n",
    "\n",
    "for label in labels:\n",
    "    labels[i]\n",
    "    ax.annotate('Phone Cases = {}'.format(y[i]), # first argument is the text you want to show on the figure\n",
    "                xy=(x[i],y[i]),\n",
    "                xytext=(x[i]-0.12,y[i]+5)\n",
    "               )\n",
    "    i = i + 1\n",
    "plt.title('Phone Cases for New Card', fontsize = 24)\n",
    "plt.ylabel('Number of Cases', fontsize = 16)\n",
    "plt.xticks(fontsize = 12)\n",
    "plt.yticks(fontsize = 12)\n",
    "bar_plot = plt.bar(x,y,color = '#24D3C1')"
   ]
  },
  {
   "cell_type": "code",
   "execution_count": 15,
   "metadata": {},
   "outputs": [
    {
     "data": {
      "image/png": "[encoded data removed]",
      "text/plain": [
       "<Figure size 1008x864 with 1 Axes>"
      ]
     },
     "metadata": {
      "needs_background": "light"
     },
     "output_type": "display_data"
    }
   ],
   "source": [
    "fig, ax = plt.subplots(figsize=(14,12))\n",
    "\n",
    "x = [0,1]\n",
    "y = [sum(contact_df[contact_df.test_group == 'TEST'].chat_new_card),sum(contact_df[contact_df.test_group == 'CONTROL'].chat_new_card)]\n",
    "\n",
    "labels = ['Test Group','Control Group']\n",
    "\n",
    "ax.set_xticks(x)\n",
    "ax.set_xticklabels(labels)\n",
    "ax.set_ylim(0,50)\n",
    "\n",
    "i = 0 #index for the first value we want\n",
    "\n",
    "for label in labels:\n",
    "    labels[i]\n",
    "    ax.annotate('Live Chat Cases = {}'.format(y[i]), # first argument is the text you want to show on the figure\n",
    "                xy=(x[i],y[i]),\n",
    "                xytext=(x[i]-0.12,y[i]+1)\n",
    "               )\n",
    "    i = i + 1\n",
    "plt.title('Live Chat Cases for New Card', fontsize = 24)\n",
    "plt.ylabel('Number of Cases', fontsize = 16)\n",
    "plt.xticks(fontsize = 12)\n",
    "plt.yticks(fontsize = 12)\n",
    "bar_plot = plt.bar(x,y)"
   ]
  },
  {
   "cell_type": "code",
   "execution_count": 16,
   "metadata": {},
   "outputs": [
    {
     "data": {
      "text/plain": [
       "[Text(0, 0, 'Test Group'), Text(0, 0, 'Control Group')]"
      ]
     },
     "execution_count": 16,
     "metadata": {},
     "output_type": "execute_result"
    },
    {
     "data": {
      "image/png": "[encoded data removed]",
      "text/plain": [
       "<Figure size 1008x864 with 1 Axes>"
      ]
     },
     "metadata": {
      "needs_background": "light"
     },
     "output_type": "display_data"
    }
   ],
   "source": [
    "fig, ax = plt.subplots(figsize=(14,12))\n",
    "\n",
    "N = 2\n",
    "y1 = ([sum(contact_df[contact_df.test_group == 'TEST'].messages_new_card),sum(contact_df[contact_df.test_group == 'CONTROL'].messages_new_card)])\n",
    "y2 = ([sum(contact_df[contact_df.test_group == 'TEST'].phone_new_card),sum(contact_df[contact_df.test_group == 'CONTROL'].phone_new_card)])\n",
    "y3 = ([sum(contact_df[contact_df.test_group == 'TEST'].chat_new_card),sum(contact_df[contact_df.test_group == 'CONTROL'].chat_new_card)])\n",
    "ind = np.arange(N)\n",
    "\n",
    "width = 0.5\n",
    "\n",
    "p1 = plt.bar(ind, y1, width, color = '#706AFE')\n",
    "p2 = plt.bar(ind, y2, width, bottom = y1, color = '#24D3C1')\n",
    "p3 = plt.bar(ind, y3, width, bottom = [y1[0]+y2[0],y1[1]+y2[1]])\n",
    "\n",
    "\n",
    "labels = ['Test Group','Control Group']\n",
    "\n",
    "ax.set_xticklabels(labels)\n",
    "\n",
    "# ax.set_xticks(x)\n",
    "# ax.set_xticklabels(labels)\n",
    "# ax.set_ylim(0,400)\n",
    "\n",
    "# # i = 0 #index for the first value we want\n",
    "\n",
    "# # for label in labels:\n",
    "# #     labels[i]\n",
    "# #     ax.annotate('Live Chat Cases = {}'.format(y[i]), # first argument is the text you want to show on the figure\n",
    "# #                 xy=(x[i],y[i]),\n",
    "# #                 xytext=(x[i]-0.12,y[i]+1)\n",
    "# #                )\n",
    "# #     i = i + 1\n",
    "# plt.title('Total Cases for New Card', fontsize = 24)\n",
    "# plt.ylabel('Number of Cases', fontsize = 16)\n",
    "# plt.xticks(fontsize = 12)\n",
    "# plt.yticks(fontsize = 12)\n",
    "# bar_plot = plt.bar(x,y1,color = '#706AFE')"
   ]
  },
  {
   "cell_type": "code",
   "execution_count": 17,
   "metadata": {},
   "outputs": [
    {
     "name": "stdout",
     "output_type": "stream",
     "text": [
      "[0 1 2]\n"
     ]
    }
   ],
   "source": [
    "N = 3\n",
    "ind = np.arange(N)\n",
    "print(ind)"
   ]
  },
  {
   "cell_type": "code",
   "execution_count": 18,
   "metadata": {},
   "outputs": [
    {
     "name": "stdout",
     "output_type": "stream",
     "text": [
      "[125, 135]\n",
      "[25, 24]\n",
      "150\n"
     ]
    }
   ],
   "source": [
    "N = 2\n",
    "y1 = ([sum(contact_df[contact_df.test_group == 'TEST'].messages_new_card),sum(contact_df[contact_df.test_group == 'CONTROL'].messages_new_card)])\n",
    "y2 = ([sum(contact_df[contact_df.test_group == 'TEST'].phone_new_card),sum(contact_df[contact_df.test_group == 'CONTROL'].phone_new_card)])\n",
    "y3 = ([sum(contact_df[contact_df.test_group == 'TEST'].chat_new_card),sum(contact_df[contact_df.test_group == 'CONTROL'].chat_new_card)])\n",
    "ind = np.arange(N)\n",
    "\n",
    "# width = 0.5\n",
    "\n",
    "# p1 = plt.bar(ind, y1, width, color = '#706AFE')\n",
    "# p2 = plt.bar(ind, y2, width, bottom = y1, color = '#24D3C1')\n",
    "# p3 = plt.bar(ind, y3, width, bottom = y2)\n",
    "print(y1)\n",
    "print(y2)\n",
    "\n",
    "\n",
    "print(y1[0]+y2[0])"
   ]
  },
  {
   "cell_type": "markdown",
   "metadata": {},
   "source": [
    "#### T-Test for Contact Across All Clients (12/19-12/23)"
   ]
  },
  {
   "cell_type": "code",
   "execution_count": 19,
   "metadata": {},
   "outputs": [
    {
     "name": "stdout",
     "output_type": "stream",
     "text": [
      "Total Chats - pvalue = 0.41532514743286164\n",
      "Mean for Test Group Chats = 0.008190247754994589\n",
      "Mean for Control Group Chats = 0.00869336143308746\n"
     ]
    }
   ],
   "source": [
    "stats_messages = stats.ttest_ind(contact_df[contact_df.test_group == 'TEST'].num_messages, \n",
    "                                          contact_df[contact_df.test_group == 'CONTROL'].num_messages)\n",
    "\n",
    "print(\"Total Chats - pvalue = {}\".format(stats_messages.pvalue))\n",
    "print(\"Mean for Test Group Chats = {}\".format(contact_df[contact_df.test_group == 'TEST'].num_messages.mean()))\n",
    "print(\"Mean for Control Group Chats = {}\".format(contact_df[contact_df.test_group == 'CONTROL'].num_messages.mean()))"
   ]
  },
  {
   "cell_type": "code",
   "execution_count": 20,
   "metadata": {},
   "outputs": [
    {
     "name": "stdout",
     "output_type": "stream",
     "text": [
      "Messages for New Card - pvalue = 0.6172836850694641\n",
      "Mean for Test Group Chats New Card = 0.0018281803024541492\n",
      "Mean for Control Group Chats New Card = 0.001975763962065332\n"
     ]
    }
   ],
   "source": [
    "stats_messages_new_card = stats.ttest_ind(contact_df[contact_df.test_group == 'TEST'].messages_new_card, \n",
    "                                          contact_df[contact_df.test_group == 'CONTROL'].messages_new_card)\n",
    "\n",
    "print(\"Messages for New Card - pvalue = {}\".format(stats_messages_new_card.pvalue))\n",
    "print(\"Mean for Test Group Chats New Card = {}\".format(contact_df[contact_df.test_group == 'TEST'].messages_new_card.mean()))\n",
    "print(\"Mean for Control Group Chats New Card = {}\".format(contact_df[contact_df.test_group == 'CONTROL'].messages_new_card.mean()))"
   ]
  },
  {
   "cell_type": "code",
   "execution_count": 93,
   "metadata": {},
   "outputs": [
    {
     "name": "stdout",
     "output_type": "stream",
     "text": [
      "Total Calls - pvalue = 0.8466656177570646\n",
      "Mean for Test Group Calls = 0.0014508313263499985\n",
      "Mean for Control Group Calls = 0.0014961579245529684\n"
     ]
    }
   ],
   "source": [
    "stats_calls = stats.ttest_ind(contact_df[contact_df.test_group == 'TEST'].num_calls, \n",
    "                contact_df[contact_df.test_group == 'CONTROL'].num_calls)\n",
    "\n",
    "print(\"Total Calls - pvalue = {}\".format(stats_calls.pvalue))\n",
    "print(\"Mean for Test Group Calls = {}\".format(contact_df[contact_df.test_group == 'TEST'].num_calls.mean()))\n",
    "print(\"Mean for Control Group Calls = {}\".format(contact_df[contact_df.test_group == 'CONTROL'].num_calls.mean()))"
   ]
  },
  {
   "cell_type": "code",
   "execution_count": 95,
   "metadata": {},
   "outputs": [
    {
     "name": "stdout",
     "output_type": "stream",
     "text": [
      "Calls New Card - pvalue = 0.7482396103002107\n",
      "Mean for Test Group Calls New Card = 0.00027565795200649974\n",
      "Mean for Control Group Calls New Card = 0.0002469386865767035\n"
     ]
    }
   ],
   "source": [
    "stats_calls_new_card = stats.ttest_ind(contact_df[contact_df.test_group == 'TEST'].phone_new_card, \n",
    "                contact_df[contact_df.test_group == 'CONTROL'].phone_new_card)\n",
    "\n",
    "print(\"Calls New Card - pvalue = {}\".format(stats_calls_new_card.pvalue))\n",
    "print(\"Mean for Test Group Calls New Card = {}\".format(contact_df[contact_df.test_group == 'TEST'].phone_new_card.mean()))\n",
    "print(\"Mean for Control Group Calls New Card = {}\".format(contact_df[contact_df.test_group == 'CONTROL'].phone_new_card.mean()))"
   ]
  },
  {
   "cell_type": "code",
   "execution_count": null,
   "metadata": {},
   "outputs": [],
   "source": []
  }
 ],
 "metadata": {
  "kernelspec": {
   "display_name": "Python 3",
   "language": "python",
   "name": "python3"
  },
  "language_info": {
   "codemirror_mode": {
    "name": "ipython",
    "version": 3
   },
   "file_extension": ".py",
   "mimetype": "text/x-python",
   "name": "python",
   "nbconvert_exporter": "python",
   "pygments_lexer": "ipython3",
   "version": "3.7.6"
  }
 },
 "nbformat": 4,
 "nbformat_minor": 4
}
