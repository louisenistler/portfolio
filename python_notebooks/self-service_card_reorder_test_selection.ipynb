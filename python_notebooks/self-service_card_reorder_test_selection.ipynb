{
 "cells": [
  {
   "cell_type": "code",
   "execution_count": 1,
   "metadata": {},
   "outputs": [],
   "source": [
    "import pandas as pd\n",
    "import numpy as np\n",
    "import random\n",
    "from simply import redshift\n",
    "from scipy import stats"
   ]
  },
  {
   "cell_type": "markdown",
   "metadata": {},
   "source": [
    "# STEP 1: Make a copy of this notebook in your own folder! \n",
    "####  - Preferably in the `src` folder associated with the ticket to pull the groups for the particular experiment.\n",
    "#### Do not commit directly to the version in the sample-size repo!"
   ]
  },
  {
   "cell_type": "markdown",
   "metadata": {},
   "source": [
    "---"
   ]
  },
  {
   "cell_type": "markdown",
   "metadata": {},
   "source": [
    "### STEP 2: Generate the population from which to draw the samples\n",
    "Enter your query below to generate a list of `user_ref`s from the population of interest. For this example I took all currently enrolled customers (removing known fraudsters). If there are any exclusionary criteria for your experiment, add those into this query. The result should be a list of all possible `user_ref`s from which the sample will be drawn. (**Note: Be cautious if adding exclusionary criteria - the results of the experiment can only be used to inform an understanding of the population of interest**). \n",
    "\n",
    "If you are interested in applying any insights/inferences to the entire customer base, you must draw from the entire customer base (i.e., no exclusionary criteria). If you are interested in understanding a subset of customers (e.g., people who live in cities)- then limit the population (e.g., list of all customers who live in cities), with the awareness that the results _cannot_ be used to make any inferences about customers not in the population (e.g., we will still know nothing about customers who do not live in cities after this experiment). \n",
    "\n",
    "Reach out if you have any questions!"
   ]
  },
  {
   "cell_type": "code",
   "execution_count": 2,
   "metadata": {},
   "outputs": [],
   "source": [
    "df = redshift(\n",
    "\"\"\"\n",
    "SELECT user_ref\n",
    "FROM curated.dim_user\n",
    "WHERE num_open_accounts > 0\n",
    "\"\"\"\n",
    ")"
   ]
  },
  {
   "cell_type": "markdown",
   "metadata": {},
   "source": [
    "### STEP 3: Draw the random samples\n",
    "\n",
    "Then we identify the size for the experimental and control groups. Often these are the same size, but this can vary. Note that if you want to use different sized experimental and control groups, the control group must _at minimum_ be big enough to have enough statistical power to detect a difference in the effect of interest. Experimental also needs to be big enough to detect a statistical difference. This can be calculated from a power analysis. Again, reach out if unsure. Once you have calculated the size for each group, enter them below."
   ]
  },
  {
   "cell_type": "code",
   "execution_count": 3,
   "metadata": {},
   "outputs": [],
   "source": [
    "# Modify the numbers here to reflect the number of customers you want to include in\n",
    "#the experimental and control groups\n",
    "experimental_num = 80000\n",
    "control_num = 80000"
   ]
  },
  {
   "cell_type": "markdown",
   "metadata": {},
   "source": [
    "Below we are generating the random samples for experimental and control group."
   ]
  },
  {
   "cell_type": "code",
   "execution_count": 4,
   "metadata": {},
   "outputs": [],
   "source": [
    "possible = pd.DataFrame(df.user_ref.unique())\n",
    "possible.columns = ['user_ref']\n",
    "experimental_users = random.sample(list(possible.user_ref), experimental_num)\n",
    "remaining = possible[~possible.user_ref.isin(experimental_users)]\n",
    "control_users = random.sample(list(remaining.user_ref), control_num)\n",
    "unused = possible[(~possible.user_ref.isin(experimental_users))&(~possible.user_ref.isin(control_users))]"
   ]
  },
  {
   "cell_type": "markdown",
   "metadata": {},
   "source": [
    "### STEP 4: Get the baseline metrics for experimental and control groups \n",
    "\n",
    "Now that we have our list of experimental and control users, we get their baseline metrics and compare to the total population. I have included average-balance-past-90-days, deposits-past-90-days, swipe-count-past-90-days, and swipe-volume-past-90-days. If you would like to include others add them to the query below (ex: KPIs or metrics you care about in the experiment). However, keep in mind that the more things you want to control for the more stringent your statistical test needs to be to avoid risk of a false positive.\n",
    "\n",
    "**Rule of thumb: Focus on (ideally) 2-3 key metrics.** These will depend on the particular experiment and hypotheses. If you are conducting a similar test in two different populations (e.g., profitable versus non-profitable) - treat these as distinct experiments and focus on 2-3 key metrics in each (they can be the same or different metrics). For example, you might have a different hypothesis/assumption for profitable than for unprofitable customers; in this case your metrics of interest may differ."
   ]
  },
  {
   "cell_type": "code",
   "execution_count": 5,
   "metadata": {
    "scrolled": true
   },
   "outputs": [],
   "source": [
    "baseline_query = \"\"\"\n",
    "SELECT \n",
    "    user_ref, \n",
    "    avg(balance_eod) AS avg_balance,\n",
    "    sum(deposit_amount) AS deposits_past90,\n",
    "    sum(swipe_amount) AS swipe_vol_past90,\n",
    "    sum(swipe_count) AS swipe_count_past90\n",
    "FROM curated.fact_customer_day\n",
    "WHERE user_ref IN :users\n",
    "    AND date > CURRENT_DATE-90\n",
    "GROUP BY user_ref\n",
    "\"\"\""
   ]
  },
  {
   "cell_type": "code",
   "execution_count": 18,
   "metadata": {},
   "outputs": [],
   "source": [
    "exp_ids_1 = tuple(experimental_users[:len(experimental_users)//2])\n",
    "exp_ids_2 = tuple(experimental_users[len(experimental_users)//2:])\n",
    "cont_ids = tuple(control_users)\n",
    "all_ids = tuple(possible.user_ref)\n"
   ]
  },
  {
   "cell_type": "code",
   "execution_count": 20,
   "metadata": {},
   "outputs": [
    {
     "data": {
      "text/plain": [
       "40000"
      ]
     },
     "execution_count": 20,
     "metadata": {},
     "output_type": "execute_result"
    }
   ],
   "source": [
    "len(exp_ids_1)"
   ]
  },
  {
   "cell_type": "code",
   "execution_count": 12,
   "metadata": {},
   "outputs": [],
   "source": [
    "test = redshift(\n",
    "\"\"\"\n",
    "SELECT distinct user_ref \n",
    "FROM curated.fact_customer_day\n",
    "WHERE user_ref IN :ids\n",
    "     AND date >= CURRENT_DATE-7\n",
    "\"\"\"\n",
    ", params = {'ids': exp_ids})"
   ]
  },
  {
   "cell_type": "code",
   "execution_count": 13,
   "metadata": {},
   "outputs": [
    {
     "data": {
      "text/html": [
       "<div>\n",
       "<style scoped>\n",
       "    .dataframe tbody tr th:only-of-type {\n",
       "        vertical-align: middle;\n",
       "    }\n",
       "\n",
       "    .dataframe tbody tr th {\n",
       "        vertical-align: top;\n",
       "    }\n",
       "\n",
       "    .dataframe thead th {\n",
       "        text-align: right;\n",
       "    }\n",
       "</style>\n",
       "<table border=\"1\" class=\"dataframe\">\n",
       "  <thead>\n",
       "    <tr style=\"text-align: right;\">\n",
       "      <th></th>\n",
       "      <th>user_ref</th>\n",
       "    </tr>\n",
       "  </thead>\n",
       "  <tbody>\n",
       "    <tr>\n",
       "      <th>count</th>\n",
       "      <td>80000</td>\n",
       "    </tr>\n",
       "    <tr>\n",
       "      <th>unique</th>\n",
       "      <td>80000</td>\n",
       "    </tr>\n",
       "    <tr>\n",
       "      <th>top</th>\n",
       "      <td>1447397f-8620-4edd-abb3-4aa556e6df36</td>\n",
       "    </tr>\n",
       "    <tr>\n",
       "      <th>freq</th>\n",
       "      <td>1</td>\n",
       "    </tr>\n",
       "  </tbody>\n",
       "</table>\n",
       "</div>"
      ],
      "text/plain": [
       "                                    user_ref\n",
       "count                                  80000\n",
       "unique                                 80000\n",
       "top     1447397f-8620-4edd-abb3-4aa556e6df36\n",
       "freq                                       1"
      ]
     },
     "execution_count": 13,
     "metadata": {},
     "output_type": "execute_result"
    }
   ],
   "source": [
    "test.describe()"
   ]
  },
  {
   "cell_type": "code",
   "execution_count": 14,
   "metadata": {},
   "outputs": [],
   "source": [
    "def get_activity(ids):\n",
    "    return redshift(baseline_query, params = {'users':ids})"
   ]
  },
  {
   "cell_type": "code",
   "execution_count": 21,
   "metadata": {
    "scrolled": false
   },
   "outputs": [],
   "source": [
    "experimental_baseline = get_activity(exp_ids)\n",
    "control_baseline = get_activity(cont_ids)\n",
    "# all_baseline = get_activity(all_ids)"
   ]
  },
  {
   "cell_type": "code",
   "execution_count": 23,
   "metadata": {
    "scrolled": false
   },
   "outputs": [],
   "source": [
    "# all_baseline = get_activity(all_ids)"
   ]
  },
  {
   "cell_type": "code",
   "execution_count": 25,
   "metadata": {},
   "outputs": [],
   "source": [
    "#all_baseline.describe()"
   ]
  },
  {
   "cell_type": "code",
   "execution_count": 26,
   "metadata": {},
   "outputs": [
    {
     "data": {
      "text/html": [
       "<div>\n",
       "<style scoped>\n",
       "    .dataframe tbody tr th:only-of-type {\n",
       "        vertical-align: middle;\n",
       "    }\n",
       "\n",
       "    .dataframe tbody tr th {\n",
       "        vertical-align: top;\n",
       "    }\n",
       "\n",
       "    .dataframe thead th {\n",
       "        text-align: right;\n",
       "    }\n",
       "</style>\n",
       "<table border=\"1\" class=\"dataframe\">\n",
       "  <thead>\n",
       "    <tr style=\"text-align: right;\">\n",
       "      <th></th>\n",
       "      <th>avg_balance</th>\n",
       "      <th>deposits_past90</th>\n",
       "      <th>swipe_vol_past90</th>\n",
       "      <th>swipe_count_past90</th>\n",
       "    </tr>\n",
       "  </thead>\n",
       "  <tbody>\n",
       "    <tr>\n",
       "      <th>count</th>\n",
       "      <td>80000.000000</td>\n",
       "      <td>8.000000e+04</td>\n",
       "      <td>80000.000000</td>\n",
       "      <td>80000.000000</td>\n",
       "    </tr>\n",
       "    <tr>\n",
       "      <th>mean</th>\n",
       "      <td>1963.520019</td>\n",
       "      <td>3.070893e+03</td>\n",
       "      <td>-1101.491380</td>\n",
       "      <td>25.970994</td>\n",
       "    </tr>\n",
       "    <tr>\n",
       "      <th>std</th>\n",
       "      <td>9732.304378</td>\n",
       "      <td>1.257450e+04</td>\n",
       "      <td>2703.575076</td>\n",
       "      <td>58.768781</td>\n",
       "    </tr>\n",
       "    <tr>\n",
       "      <th>min</th>\n",
       "      <td>-4609.330000</td>\n",
       "      <td>0.000000e+00</td>\n",
       "      <td>-91245.520000</td>\n",
       "      <td>0.000000</td>\n",
       "    </tr>\n",
       "    <tr>\n",
       "      <th>25%</th>\n",
       "      <td>0.000000</td>\n",
       "      <td>0.000000e+00</td>\n",
       "      <td>-535.322500</td>\n",
       "      <td>0.000000</td>\n",
       "    </tr>\n",
       "    <tr>\n",
       "      <th>50%</th>\n",
       "      <td>4.617500</td>\n",
       "      <td>0.000000e+00</td>\n",
       "      <td>0.000000</td>\n",
       "      <td>0.000000</td>\n",
       "    </tr>\n",
       "    <tr>\n",
       "      <th>75%</th>\n",
       "      <td>514.588750</td>\n",
       "      <td>2.235722e+03</td>\n",
       "      <td>0.000000</td>\n",
       "      <td>14.000000</td>\n",
       "    </tr>\n",
       "    <tr>\n",
       "      <th>max</th>\n",
       "      <td>804411.303000</td>\n",
       "      <td>2.025903e+06</td>\n",
       "      <td>0.000000</td>\n",
       "      <td>889.000000</td>\n",
       "    </tr>\n",
       "  </tbody>\n",
       "</table>\n",
       "</div>"
      ],
      "text/plain": [
       "         avg_balance  deposits_past90  swipe_vol_past90  swipe_count_past90\n",
       "count   80000.000000     8.000000e+04      80000.000000        80000.000000\n",
       "mean     1963.520019     3.070893e+03      -1101.491380           25.970994\n",
       "std      9732.304378     1.257450e+04       2703.575076           58.768781\n",
       "min     -4609.330000     0.000000e+00     -91245.520000            0.000000\n",
       "25%         0.000000     0.000000e+00       -535.322500            0.000000\n",
       "50%         4.617500     0.000000e+00          0.000000            0.000000\n",
       "75%       514.588750     2.235722e+03          0.000000           14.000000\n",
       "max    804411.303000     2.025903e+06          0.000000          889.000000"
      ]
     },
     "execution_count": 26,
     "metadata": {},
     "output_type": "execute_result"
    }
   ],
   "source": [
    "experimental_baseline.describe()"
   ]
  },
  {
   "cell_type": "code",
   "execution_count": 27,
   "metadata": {},
   "outputs": [
    {
     "data": {
      "text/html": [
       "<div>\n",
       "<style scoped>\n",
       "    .dataframe tbody tr th:only-of-type {\n",
       "        vertical-align: middle;\n",
       "    }\n",
       "\n",
       "    .dataframe tbody tr th {\n",
       "        vertical-align: top;\n",
       "    }\n",
       "\n",
       "    .dataframe thead th {\n",
       "        text-align: right;\n",
       "    }\n",
       "</style>\n",
       "<table border=\"1\" class=\"dataframe\">\n",
       "  <thead>\n",
       "    <tr style=\"text-align: right;\">\n",
       "      <th></th>\n",
       "      <th>avg_balance</th>\n",
       "      <th>deposits_past90</th>\n",
       "      <th>swipe_vol_past90</th>\n",
       "      <th>swipe_count_past90</th>\n",
       "    </tr>\n",
       "  </thead>\n",
       "  <tbody>\n",
       "    <tr>\n",
       "      <th>count</th>\n",
       "      <td>8.000000e+04</td>\n",
       "      <td>80000.000000</td>\n",
       "      <td>80000.000000</td>\n",
       "      <td>80000.000000</td>\n",
       "    </tr>\n",
       "    <tr>\n",
       "      <th>mean</th>\n",
       "      <td>2.030860e+03</td>\n",
       "      <td>3057.911226</td>\n",
       "      <td>-1095.593705</td>\n",
       "      <td>25.659644</td>\n",
       "    </tr>\n",
       "    <tr>\n",
       "      <th>std</th>\n",
       "      <td>1.101578e+04</td>\n",
       "      <td>9265.672578</td>\n",
       "      <td>2683.185136</td>\n",
       "      <td>57.779242</td>\n",
       "    </tr>\n",
       "    <tr>\n",
       "      <th>min</th>\n",
       "      <td>-3.620061e+03</td>\n",
       "      <td>0.000000</td>\n",
       "      <td>-92858.070000</td>\n",
       "      <td>0.000000</td>\n",
       "    </tr>\n",
       "    <tr>\n",
       "      <th>25%</th>\n",
       "      <td>0.000000e+00</td>\n",
       "      <td>0.000000</td>\n",
       "      <td>-536.612500</td>\n",
       "      <td>0.000000</td>\n",
       "    </tr>\n",
       "    <tr>\n",
       "      <th>50%</th>\n",
       "      <td>4.550000e+00</td>\n",
       "      <td>0.000000</td>\n",
       "      <td>0.000000</td>\n",
       "      <td>0.000000</td>\n",
       "    </tr>\n",
       "    <tr>\n",
       "      <th>75%</th>\n",
       "      <td>5.123227e+02</td>\n",
       "      <td>2237.287500</td>\n",
       "      <td>0.000000</td>\n",
       "      <td>14.000000</td>\n",
       "    </tr>\n",
       "    <tr>\n",
       "      <th>max</th>\n",
       "      <td>1.311382e+06</td>\n",
       "      <td>799602.390000</td>\n",
       "      <td>0.000000</td>\n",
       "      <td>871.000000</td>\n",
       "    </tr>\n",
       "  </tbody>\n",
       "</table>\n",
       "</div>"
      ],
      "text/plain": [
       "        avg_balance  deposits_past90  swipe_vol_past90  swipe_count_past90\n",
       "count  8.000000e+04     80000.000000      80000.000000        80000.000000\n",
       "mean   2.030860e+03      3057.911226      -1095.593705           25.659644\n",
       "std    1.101578e+04      9265.672578       2683.185136           57.779242\n",
       "min   -3.620061e+03         0.000000     -92858.070000            0.000000\n",
       "25%    0.000000e+00         0.000000       -536.612500            0.000000\n",
       "50%    4.550000e+00         0.000000          0.000000            0.000000\n",
       "75%    5.123227e+02      2237.287500          0.000000           14.000000\n",
       "max    1.311382e+06    799602.390000          0.000000          871.000000"
      ]
     },
     "execution_count": 27,
     "metadata": {},
     "output_type": "execute_result"
    }
   ],
   "source": [
    "control_baseline.describe()"
   ]
  },
  {
   "cell_type": "markdown",
   "metadata": {},
   "source": [
    "### STEP 5: Make sure the groups don't differ on contact rate\n",
    "\n",
    "Note: You only need to run this part if you will be measuring the impact on contact rate in the experiment.\n",
    "\n",
    "**THIS SECTION (QUERY, ETC.) NEEDS TO BE UPDATED ONCE CALL DATA IS ADDED TO REDSHIFT**"
   ]
  },
  {
   "cell_type": "code",
   "execution_count": 35,
   "metadata": {},
   "outputs": [],
   "source": [
    "contact_rate_query = \"\"\"\n",
    "\n",
    "select distinct\n",
    "\tdu.user_ref,\n",
    "    isnull(count(distinct dc.chat_ref),0) as num_chats,\n",
    "    isnull(count(distinct dc.user_ref),0) as chat_flag,\n",
    "    isnull(count(distinct c.case_number),0) as num_calls,\n",
    "    isnull(count(distinct c.user_ref),0) as call_flag\n",
    "from dim_user_pii du\n",
    "left join (select distinct\n",
    "                du.user_ref,\n",
    "                dc.chat_ref\n",
    "           from dim_user du\n",
    "           join dim_chat dc on du.user_ref = dc.user_ref\n",
    "           where created_by = 'CUSTOMER'\n",
    "                and dc.created_date >= current_date - 120) dc on du.user_ref = dc.user_ref\n",
    "left join (select distinct\n",
    "                du.user_ref,\n",
    "                c.case_number\n",
    "           from segment_salesforce.cases c\n",
    "           join curated.dim_user du on ltrim(c.customer_c,'Customers:') = du.user_ref\n",
    "           where origin = 'Phone'\n",
    "                and c.created_date::date >= current_date - 120) c on du.user_ref = c.user_ref\n",
    "where du.user_ref in :ids\n",
    "group by 1\n",
    ";\n",
    "\n",
    "\n",
    "\"\"\""
   ]
  },
  {
   "cell_type": "code",
   "execution_count": 36,
   "metadata": {},
   "outputs": [],
   "source": [
    "exp_contact = redshift(contact_rate_query, params = {'ids':exp_ids})"
   ]
  },
  {
   "cell_type": "code",
   "execution_count": 37,
   "metadata": {},
   "outputs": [],
   "source": [
    "con_contact = redshift(contact_rate_query, params = {'ids':cont_ids})"
   ]
  },
  {
   "cell_type": "code",
   "execution_count": 38,
   "metadata": {},
   "outputs": [
    {
     "data": {
      "text/html": [
       "<div>\n",
       "<style scoped>\n",
       "    .dataframe tbody tr th:only-of-type {\n",
       "        vertical-align: middle;\n",
       "    }\n",
       "\n",
       "    .dataframe tbody tr th {\n",
       "        vertical-align: top;\n",
       "    }\n",
       "\n",
       "    .dataframe thead th {\n",
       "        text-align: right;\n",
       "    }\n",
       "</style>\n",
       "<table border=\"1\" class=\"dataframe\">\n",
       "  <thead>\n",
       "    <tr style=\"text-align: right;\">\n",
       "      <th></th>\n",
       "      <th>num_chats</th>\n",
       "      <th>chat_flag</th>\n",
       "      <th>num_calls</th>\n",
       "      <th>call_flag</th>\n",
       "    </tr>\n",
       "  </thead>\n",
       "  <tbody>\n",
       "    <tr>\n",
       "      <th>count</th>\n",
       "      <td>80000.000000</td>\n",
       "      <td>80000.000000</td>\n",
       "      <td>80000.000000</td>\n",
       "      <td>80000.000000</td>\n",
       "    </tr>\n",
       "    <tr>\n",
       "      <th>mean</th>\n",
       "      <td>0.135425</td>\n",
       "      <td>0.089200</td>\n",
       "      <td>0.221025</td>\n",
       "      <td>0.082325</td>\n",
       "    </tr>\n",
       "    <tr>\n",
       "      <th>std</th>\n",
       "      <td>0.544439</td>\n",
       "      <td>0.285034</td>\n",
       "      <td>1.065053</td>\n",
       "      <td>0.274861</td>\n",
       "    </tr>\n",
       "    <tr>\n",
       "      <th>min</th>\n",
       "      <td>0.000000</td>\n",
       "      <td>0.000000</td>\n",
       "      <td>0.000000</td>\n",
       "      <td>0.000000</td>\n",
       "    </tr>\n",
       "    <tr>\n",
       "      <th>25%</th>\n",
       "      <td>0.000000</td>\n",
       "      <td>0.000000</td>\n",
       "      <td>0.000000</td>\n",
       "      <td>0.000000</td>\n",
       "    </tr>\n",
       "    <tr>\n",
       "      <th>50%</th>\n",
       "      <td>0.000000</td>\n",
       "      <td>0.000000</td>\n",
       "      <td>0.000000</td>\n",
       "      <td>0.000000</td>\n",
       "    </tr>\n",
       "    <tr>\n",
       "      <th>75%</th>\n",
       "      <td>0.000000</td>\n",
       "      <td>0.000000</td>\n",
       "      <td>0.000000</td>\n",
       "      <td>0.000000</td>\n",
       "    </tr>\n",
       "    <tr>\n",
       "      <th>max</th>\n",
       "      <td>26.000000</td>\n",
       "      <td>1.000000</td>\n",
       "      <td>54.000000</td>\n",
       "      <td>1.000000</td>\n",
       "    </tr>\n",
       "  </tbody>\n",
       "</table>\n",
       "</div>"
      ],
      "text/plain": [
       "          num_chats     chat_flag     num_calls     call_flag\n",
       "count  80000.000000  80000.000000  80000.000000  80000.000000\n",
       "mean       0.135425      0.089200      0.221025      0.082325\n",
       "std        0.544439      0.285034      1.065053      0.274861\n",
       "min        0.000000      0.000000      0.000000      0.000000\n",
       "25%        0.000000      0.000000      0.000000      0.000000\n",
       "50%        0.000000      0.000000      0.000000      0.000000\n",
       "75%        0.000000      0.000000      0.000000      0.000000\n",
       "max       26.000000      1.000000     54.000000      1.000000"
      ]
     },
     "execution_count": 38,
     "metadata": {},
     "output_type": "execute_result"
    }
   ],
   "source": [
    "exp_contact.describe()"
   ]
  },
  {
   "cell_type": "code",
   "execution_count": 39,
   "metadata": {},
   "outputs": [
    {
     "data": {
      "text/html": [
       "<div>\n",
       "<style scoped>\n",
       "    .dataframe tbody tr th:only-of-type {\n",
       "        vertical-align: middle;\n",
       "    }\n",
       "\n",
       "    .dataframe tbody tr th {\n",
       "        vertical-align: top;\n",
       "    }\n",
       "\n",
       "    .dataframe thead th {\n",
       "        text-align: right;\n",
       "    }\n",
       "</style>\n",
       "<table border=\"1\" class=\"dataframe\">\n",
       "  <thead>\n",
       "    <tr style=\"text-align: right;\">\n",
       "      <th></th>\n",
       "      <th>num_chats</th>\n",
       "      <th>chat_flag</th>\n",
       "      <th>num_calls</th>\n",
       "      <th>call_flag</th>\n",
       "    </tr>\n",
       "  </thead>\n",
       "  <tbody>\n",
       "    <tr>\n",
       "      <th>count</th>\n",
       "      <td>80000.000000</td>\n",
       "      <td>80000.000000</td>\n",
       "      <td>80000.000000</td>\n",
       "      <td>80000.000000</td>\n",
       "    </tr>\n",
       "    <tr>\n",
       "      <th>mean</th>\n",
       "      <td>0.132887</td>\n",
       "      <td>0.088438</td>\n",
       "      <td>0.216175</td>\n",
       "      <td>0.083013</td>\n",
       "    </tr>\n",
       "    <tr>\n",
       "      <th>std</th>\n",
       "      <td>0.559068</td>\n",
       "      <td>0.283932</td>\n",
       "      <td>1.011252</td>\n",
       "      <td>0.275903</td>\n",
       "    </tr>\n",
       "    <tr>\n",
       "      <th>min</th>\n",
       "      <td>0.000000</td>\n",
       "      <td>0.000000</td>\n",
       "      <td>0.000000</td>\n",
       "      <td>0.000000</td>\n",
       "    </tr>\n",
       "    <tr>\n",
       "      <th>25%</th>\n",
       "      <td>0.000000</td>\n",
       "      <td>0.000000</td>\n",
       "      <td>0.000000</td>\n",
       "      <td>0.000000</td>\n",
       "    </tr>\n",
       "    <tr>\n",
       "      <th>50%</th>\n",
       "      <td>0.000000</td>\n",
       "      <td>0.000000</td>\n",
       "      <td>0.000000</td>\n",
       "      <td>0.000000</td>\n",
       "    </tr>\n",
       "    <tr>\n",
       "      <th>75%</th>\n",
       "      <td>0.000000</td>\n",
       "      <td>0.000000</td>\n",
       "      <td>0.000000</td>\n",
       "      <td>0.000000</td>\n",
       "    </tr>\n",
       "    <tr>\n",
       "      <th>max</th>\n",
       "      <td>32.000000</td>\n",
       "      <td>1.000000</td>\n",
       "      <td>35.000000</td>\n",
       "      <td>1.000000</td>\n",
       "    </tr>\n",
       "  </tbody>\n",
       "</table>\n",
       "</div>"
      ],
      "text/plain": [
       "          num_chats     chat_flag     num_calls     call_flag\n",
       "count  80000.000000  80000.000000  80000.000000  80000.000000\n",
       "mean       0.132887      0.088438      0.216175      0.083013\n",
       "std        0.559068      0.283932      1.011252      0.275903\n",
       "min        0.000000      0.000000      0.000000      0.000000\n",
       "25%        0.000000      0.000000      0.000000      0.000000\n",
       "50%        0.000000      0.000000      0.000000      0.000000\n",
       "75%        0.000000      0.000000      0.000000      0.000000\n",
       "max       32.000000      1.000000     35.000000      1.000000"
      ]
     },
     "execution_count": 39,
     "metadata": {},
     "output_type": "execute_result"
    }
   ],
   "source": [
    "con_contact.describe()"
   ]
  },
  {
   "cell_type": "code",
   "execution_count": 44,
   "metadata": {},
   "outputs": [],
   "source": [
    "# Calculation Chat Flag - Chi Square Test\n",
    "# Note: the Numpy array needs to be 2-dimensional! \n",
    "obs = np.array([[exp_contact[exp_contact.chat_flag ==1].user_ref.count(),\n",
    "                 exp_contact[exp_contact.chat_flag ==0].user_ref.count()],\n",
    "                [con_contact[con_contact.chat_flag ==1].user_ref.count(),\n",
    "                 con_contact[con_contact.chat_flag ==0].user_ref.count()]])\n",
    "\n",
    "chi2, p, dof, expected = stats.chi2_contingency(obs)"
   ]
  },
  {
   "cell_type": "markdown",
   "metadata": {},
   "source": [
    "#### This p-value indicates whether there's a statistial difference in the proportion of people who contact in each group (experimental versus control).\n",
    "Re-pull the groups if the p < .1"
   ]
  },
  {
   "cell_type": "code",
   "execution_count": 45,
   "metadata": {},
   "outputs": [
    {
     "data": {
      "text/plain": [
       "0.5980031694205838"
      ]
     },
     "execution_count": 45,
     "metadata": {},
     "output_type": "execute_result"
    }
   ],
   "source": [
    "#P Value for the Chi Square Test\n",
    "p"
   ]
  },
  {
   "cell_type": "code",
   "execution_count": 46,
   "metadata": {},
   "outputs": [],
   "source": [
    "#Returns P Value for Number of Chats\n",
    "[tstat,pvalue] = stats.ttest_ind(exp_contact.num_chats, con_contact.num_chats)"
   ]
  },
  {
   "cell_type": "markdown",
   "metadata": {},
   "source": [
    "#### This p-value indicates whether there's a statistical difference in the total contact between the groups (experimental versus control)\n",
    "Re-pull the groups if the pvalue <.1"
   ]
  },
  {
   "cell_type": "code",
   "execution_count": 47,
   "metadata": {
    "scrolled": true
   },
   "outputs": [
    {
     "data": {
      "text/plain": [
       "0.35772372327661983"
      ]
     },
     "execution_count": 47,
     "metadata": {},
     "output_type": "execute_result"
    }
   ],
   "source": [
    "pvalue"
   ]
  },
  {
   "cell_type": "code",
   "execution_count": 50,
   "metadata": {},
   "outputs": [
    {
     "data": {
      "text/plain": [
       "0.6239710711954163"
      ]
     },
     "execution_count": 50,
     "metadata": {},
     "output_type": "execute_result"
    }
   ],
   "source": [
    "# Calculation Unique Call Flag - Chi Square Test\n",
    "# Note: the Numpy array needs to be 2-dimensional! \n",
    "obs = np.array([[exp_contact[exp_contact.call_flag ==1].user_ref.count(),\n",
    "                 exp_contact[exp_contact.call_flag ==0].user_ref.count()],\n",
    "                [con_contact[con_contact.call_flag ==1].user_ref.count(),\n",
    "                 con_contact[con_contact.call_flag ==0].user_ref.count()]])\n",
    "\n",
    "chi2, p, dof, expected = stats.chi2_contingency(obs)\n",
    "p"
   ]
  },
  {
   "cell_type": "code",
   "execution_count": 51,
   "metadata": {},
   "outputs": [
    {
     "data": {
      "text/plain": [
       "0.35028536005041777"
      ]
     },
     "execution_count": 51,
     "metadata": {},
     "output_type": "execute_result"
    }
   ],
   "source": [
    "#Returns P Value for Total Calls\n",
    "[tstat,pvalue] = stats.ttest_ind(exp_contact.num_calls, con_contact.num_calls)\n",
    "pvalue"
   ]
  },
  {
   "cell_type": "markdown",
   "metadata": {},
   "source": [
    "### Step 6: Conduct statistical tests to ensure that experimental and control groups are statistically indistinguishable from each other and from the population (on the metrics we are interested in - other than contact)\n",
    "\n",
    "Here we will conduct independent t-tests for each measure to investigate baseline differences between (1) experimental group and all customers and (2) experimental and control groups. We are looking for high p-values here to indicate no difference. (If the p-values are trending towards significance there is a problem.) \n",
    "\n",
    "**Note that it is important to find statistical similarity (e.g., p > .2) in the variables of interest.** For example, if you are going to be testing for an increase in ADB, then it will be important that the experiment and control group have similar ADB at the beginning of the experiment. If you run the t-test and you find that the groups have different mean ADB, and the p-value is trending towards signfiicance then I would re-pull the groups (e.g., may not be lower than .05 but .1 is still too low; this means that theres only a 10% chance that the mean differences would have been found by chance). Feel free to rerun the notebook until you get similar means and high p-values. "
   ]
  },
  {
   "cell_type": "code",
   "execution_count": 53,
   "metadata": {},
   "outputs": [
    {
     "name": "stdout",
     "output_type": "stream",
     "text": [
      "----------------------------------------------------\n",
      "----------------------------------------------------\n",
      "Comparing experimental to control\n",
      "-------------------------------------------\n",
      "Average balance: Ttest_indResult(statistic=-1.2957536717195983, pvalue=0.1950622330430885)\n",
      "Deposits: Ttest_indResult(statistic=0.2350776285004822, pvalue=0.8141487829115092)\n",
      "Swipe volume: Ttest_indResult(statistic=-0.4379354162102582, pvalue=0.661433692455781)\n",
      "Swipe count: Ttest_indResult(statistic=1.0685338845218917, pvalue=0.28528136619068967)\n"
     ]
    }
   ],
   "source": [
    "\n",
    "# print('Comparing experimental to total population')\n",
    "# print('-------------------------------------------')\n",
    "# print('Average balance:',stats.ttest_ind(experimental_baseline.avg_balance, all_baseline.avg_balance))\n",
    "# print('Deposits:',stats.ttest_ind(experimental_baseline.deposits_past90, all_baseline.deposits_past90))\n",
    "# print('Swipe volume:',stats.ttest_ind(experimental_baseline.swipe_vol_past90, all_baseline.swipe_vol_past90))\n",
    "# print('Swipe count:',stats.ttest_ind(experimental_baseline.swipe_count_past90, all_baseline.swipe_count_past90))\n",
    "print('----------------------------------------------------')\n",
    "print('----------------------------------------------------')\n",
    "print('Comparing experimental to control')\n",
    "print('-------------------------------------------')\n",
    "print('Average balance:',stats.ttest_ind(experimental_baseline.avg_balance, control_baseline.avg_balance))\n",
    "print('Deposits:',stats.ttest_ind(experimental_baseline.deposits_past90, control_baseline.deposits_past90))\n",
    "print('Swipe volume:',stats.ttest_ind(experimental_baseline.swipe_vol_past90, control_baseline.swipe_vol_past90))\n",
    "print('Swipe count:',stats.ttest_ind(experimental_baseline.swipe_count_past90, control_baseline.swipe_count_past90))"
   ]
  },
  {
   "cell_type": "markdown",
   "metadata": {},
   "source": [
    "### STEP 7: Save the experimental and control user_refs as CSV files"
   ]
  },
  {
   "cell_type": "markdown",
   "metadata": {},
   "source": [
    "Save the csv files in the `output` folder (presuming you are currently working in the `src` folder). You can then link to those csv files in the ticket."
   ]
  },
  {
   "cell_type": "code",
   "execution_count": 56,
   "metadata": {},
   "outputs": [
    {
     "data": {
      "text/html": [
       "<div>\n",
       "<style scoped>\n",
       "    .dataframe tbody tr th:only-of-type {\n",
       "        vertical-align: middle;\n",
       "    }\n",
       "\n",
       "    .dataframe tbody tr th {\n",
       "        vertical-align: top;\n",
       "    }\n",
       "\n",
       "    .dataframe thead th {\n",
       "        text-align: right;\n",
       "    }\n",
       "</style>\n",
       "<table border=\"1\" class=\"dataframe\">\n",
       "  <thead>\n",
       "    <tr style=\"text-align: right;\">\n",
       "      <th></th>\n",
       "      <th>user_ref</th>\n",
       "      <th>test_group</th>\n",
       "    </tr>\n",
       "  </thead>\n",
       "  <tbody>\n",
       "    <tr>\n",
       "      <th>0</th>\n",
       "      <td>00152d70-2af4-4f5e-a427-2f23adf63033</td>\n",
       "      <td>TEST</td>\n",
       "    </tr>\n",
       "  </tbody>\n",
       "</table>\n",
       "</div>"
      ],
      "text/plain": [
       "                               user_ref test_group\n",
       "0  00152d70-2af4-4f5e-a427-2f23adf63033       TEST"
      ]
     },
     "execution_count": 56,
     "metadata": {},
     "output_type": "execute_result"
    }
   ],
   "source": [
    "redshift(\"\"\"\n",
    "drop table if exists public.louise_self_service_card_reorder_test;\n",
    "create table public.louise_self_service_card_reorder_test as \n",
    "select \n",
    "    user_ref, \n",
    "    :test_group as test_group\n",
    "from curated.dim_user \n",
    "where user_ref in :ids\n",
    ";\n",
    "\n",
    "select * \n",
    "from public.louise_self_service_card_reorder_test\n",
    "limit 1\n",
    ";\"\"\", params={'ids': tuple(exp_ids), 'test_group': 'TEST'})"
   ]
  },
  {
   "cell_type": "code",
   "execution_count": 57,
   "metadata": {},
   "outputs": [],
   "source": [
    "experimental_baseline.user_ref.to_csv('../output/experimental_ids.csv', header=True, index=False)\n",
    "control_baseline.user_ref.to_csv('../output/control_ids.csv', header=True, index=False)"
   ]
  },
  {
   "cell_type": "markdown",
   "metadata": {},
   "source": [
    "## How to measure the test vs. control\n",
    "Compare the user_ref from public.louise_self_service_card_reorder_test to the customers who have the feature flag OFF"
   ]
  },
  {
   "cell_type": "code",
   "execution_count": null,
   "metadata": {},
   "outputs": [],
   "source": []
  }
 ],
 "metadata": {
  "kernelspec": {
   "display_name": "Python 3",
   "language": "python",
   "name": "python3"
  },
  "language_info": {
   "codemirror_mode": {
    "name": "ipython",
    "version": 3
   },
   "file_extension": ".py",
   "mimetype": "text/x-python",
   "name": "python",
   "nbconvert_exporter": "python",
   "pygments_lexer": "ipython3",
   "version": "3.7.6"
  }
 },
 "nbformat": 4,
 "nbformat_minor": 2
}
