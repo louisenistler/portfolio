{
 "cells": [
  {
   "cell_type": "code",
   "execution_count": 1,
   "metadata": {},
   "outputs": [],
   "source": [
    "from simply import redshift\n",
    "from scipy import stats\n",
    "import numpy as np"
   ]
  },
  {
   "cell_type": "code",
   "execution_count": 58,
   "metadata": {},
   "outputs": [],
   "source": [
    "social_proof_test = redshift(\"\"\"\n",
    "WITH social_proof_lp_test as (\n",
    "SELECT DISTINCT\n",
    "\tCASE WHEN variation_id = 14490420253 THEN 'original' \n",
    "\t\t\t WHEN variation_id = 14494190727 THEN 'social proof' \n",
    "\t\t\t ELSE NULL \n",
    "\t\t\t END test_group,\n",
    "\tdu.user_ref,\n",
    "\tfirst_account_open_date\n",
    "FROM fact_client_event fce\n",
    "JOIN (SELECT user_ref, MIN(event_ts) AS first_event_optimizely\n",
    "\t\t  FROM fact_client_event\n",
    "\t\t\tWHERE experiment_id = 14482520534\n",
    "\t\t\tGROUP BY 1) feo ON fce.user_ref = feo.user_ref AND fce.event_ts = feo.first_event_optimizely\n",
    "JOIN dim_user du on fce.user_ref = du.user_ref AND fce.event_ts < du.first_account_open_ts\n",
    "WHERE experiment_id = 14482520534\n",
    "    AND first_channel = 'PAID'\n",
    "\t)\n",
    "\n",
    "SELECT\n",
    "\tlp.user_ref,\n",
    "\ttest_group,\n",
    "\tfirst_account_open_date,\n",
    "\tbalance_eod,\n",
    "\trunning_total_swipe_count,\n",
    "    CASE WHEN running_total_swipe_count >= 1 THEN 1 ELSE 0 END AS swipe_flag,\n",
    "\tft.amount AS first_deposit_amount,\n",
    "\tCASE WHEN first_deposit_ts::date IS NOT NULL THEN 1 ELSE 0 END AS deposit_flag,\n",
    "    CASE WHEN has_individual_protected_account = true THEN 1 ELSE 0 END protected_flag,\n",
    "    individual_protected_balance_eod\n",
    "FROM social_proof_lp_test lp\n",
    "JOIN fact_user_day fud on lp.user_ref = fud.user_ref\n",
    "LEFT JOIN (SELECT user_ref, MIN(transaction_ts) AS first_deposit_ts\n",
    "\t\t\t\t\t FROM fact_transaction ft\n",
    "\t\t\t\t\t WHERE is_deposit = true\n",
    "\t\t\t\t\t\t\tAND amount > 1\n",
    "\t\t\t\t\t GROUP BY 1) d ON fud.user_ref = d.user_ref AND first_deposit_ts::date <= first_account_open_date + 14\n",
    "LEFT JOIN fact_transaction ft ON d.user_ref = ft.user_ref AND d.first_deposit_ts = ft.transaction_ts\n",
    "WHERE num_open_account_days = 14\n",
    "    AND running_total_swipe_count < 50;\n",
    "\"\"\")"
   ]
  },
  {
   "cell_type": "code",
   "execution_count": 59,
   "metadata": {},
   "outputs": [
    {
     "data": {
      "text/html": [
       "<div>\n",
       "<style scoped>\n",
       "    .dataframe tbody tr th:only-of-type {\n",
       "        vertical-align: middle;\n",
       "    }\n",
       "\n",
       "    .dataframe tbody tr th {\n",
       "        vertical-align: top;\n",
       "    }\n",
       "\n",
       "    .dataframe thead th {\n",
       "        text-align: right;\n",
       "    }\n",
       "</style>\n",
       "<table border=\"1\" class=\"dataframe\">\n",
       "  <thead>\n",
       "    <tr style=\"text-align: right;\">\n",
       "      <th></th>\n",
       "      <th>balance_eod</th>\n",
       "      <th>running_total_swipe_count</th>\n",
       "      <th>swipe_flag</th>\n",
       "      <th>first_deposit_amount</th>\n",
       "      <th>deposit_flag</th>\n",
       "      <th>protected_flag</th>\n",
       "      <th>individual_protected_balance_eod</th>\n",
       "    </tr>\n",
       "  </thead>\n",
       "  <tbody>\n",
       "    <tr>\n",
       "      <th>count</th>\n",
       "      <td>2465.000000</td>\n",
       "      <td>2465.000000</td>\n",
       "      <td>2465.000000</td>\n",
       "      <td>481.000000</td>\n",
       "      <td>2465.000000</td>\n",
       "      <td>2465.000000</td>\n",
       "      <td>2465.000000</td>\n",
       "    </tr>\n",
       "    <tr>\n",
       "      <th>mean</th>\n",
       "      <td>105.360450</td>\n",
       "      <td>0.468560</td>\n",
       "      <td>0.081947</td>\n",
       "      <td>470.504990</td>\n",
       "      <td>0.195132</td>\n",
       "      <td>0.065314</td>\n",
       "      <td>43.430454</td>\n",
       "    </tr>\n",
       "    <tr>\n",
       "      <th>std</th>\n",
       "      <td>626.529497</td>\n",
       "      <td>2.341685</td>\n",
       "      <td>0.274340</td>\n",
       "      <td>1007.531912</td>\n",
       "      <td>0.396383</td>\n",
       "      <td>0.247130</td>\n",
       "      <td>387.717208</td>\n",
       "    </tr>\n",
       "    <tr>\n",
       "      <th>min</th>\n",
       "      <td>-40.520000</td>\n",
       "      <td>0.000000</td>\n",
       "      <td>0.000000</td>\n",
       "      <td>1.310000</td>\n",
       "      <td>0.000000</td>\n",
       "      <td>0.000000</td>\n",
       "      <td>0.000000</td>\n",
       "    </tr>\n",
       "    <tr>\n",
       "      <th>25%</th>\n",
       "      <td>0.000000</td>\n",
       "      <td>0.000000</td>\n",
       "      <td>0.000000</td>\n",
       "      <td>15.000000</td>\n",
       "      <td>0.000000</td>\n",
       "      <td>0.000000</td>\n",
       "      <td>0.000000</td>\n",
       "    </tr>\n",
       "    <tr>\n",
       "      <th>50%</th>\n",
       "      <td>0.000000</td>\n",
       "      <td>0.000000</td>\n",
       "      <td>0.000000</td>\n",
       "      <td>54.730000</td>\n",
       "      <td>0.000000</td>\n",
       "      <td>0.000000</td>\n",
       "      <td>0.000000</td>\n",
       "    </tr>\n",
       "    <tr>\n",
       "      <th>75%</th>\n",
       "      <td>0.000000</td>\n",
       "      <td>0.000000</td>\n",
       "      <td>0.000000</td>\n",
       "      <td>334.590000</td>\n",
       "      <td>0.000000</td>\n",
       "      <td>0.000000</td>\n",
       "      <td>0.000000</td>\n",
       "    </tr>\n",
       "    <tr>\n",
       "      <th>max</th>\n",
       "      <td>11640.530000</td>\n",
       "      <td>37.000000</td>\n",
       "      <td>1.000000</td>\n",
       "      <td>5000.000000</td>\n",
       "      <td>1.000000</td>\n",
       "      <td>1.000000</td>\n",
       "      <td>7085.660000</td>\n",
       "    </tr>\n",
       "  </tbody>\n",
       "</table>\n",
       "</div>"
      ],
      "text/plain": [
       "        balance_eod  running_total_swipe_count   swipe_flag  \\\n",
       "count   2465.000000                2465.000000  2465.000000   \n",
       "mean     105.360450                   0.468560     0.081947   \n",
       "std      626.529497                   2.341685     0.274340   \n",
       "min      -40.520000                   0.000000     0.000000   \n",
       "25%        0.000000                   0.000000     0.000000   \n",
       "50%        0.000000                   0.000000     0.000000   \n",
       "75%        0.000000                   0.000000     0.000000   \n",
       "max    11640.530000                  37.000000     1.000000   \n",
       "\n",
       "       first_deposit_amount  deposit_flag  protected_flag  \\\n",
       "count            481.000000   2465.000000     2465.000000   \n",
       "mean             470.504990      0.195132        0.065314   \n",
       "std             1007.531912      0.396383        0.247130   \n",
       "min                1.310000      0.000000        0.000000   \n",
       "25%               15.000000      0.000000        0.000000   \n",
       "50%               54.730000      0.000000        0.000000   \n",
       "75%              334.590000      0.000000        0.000000   \n",
       "max             5000.000000      1.000000        1.000000   \n",
       "\n",
       "       individual_protected_balance_eod  \n",
       "count                       2465.000000  \n",
       "mean                          43.430454  \n",
       "std                          387.717208  \n",
       "min                            0.000000  \n",
       "25%                            0.000000  \n",
       "50%                            0.000000  \n",
       "75%                            0.000000  \n",
       "max                         7085.660000  "
      ]
     },
     "execution_count": 59,
     "metadata": {},
     "output_type": "execute_result"
    }
   ],
   "source": [
    "social_proof_test.describe()"
   ]
  },
  {
   "cell_type": "code",
   "execution_count": 60,
   "metadata": {},
   "outputs": [],
   "source": [
    "social_proof = social_proof_test[social_proof_test.test_group == 'social proof']\n",
    "control = social_proof_test[social_proof_test.test_group == 'original']"
   ]
  },
  {
   "cell_type": "code",
   "execution_count": 61,
   "metadata": {},
   "outputs": [
    {
     "data": {
      "text/html": [
       "<div>\n",
       "<style scoped>\n",
       "    .dataframe tbody tr th:only-of-type {\n",
       "        vertical-align: middle;\n",
       "    }\n",
       "\n",
       "    .dataframe tbody tr th {\n",
       "        vertical-align: top;\n",
       "    }\n",
       "\n",
       "    .dataframe thead th {\n",
       "        text-align: right;\n",
       "    }\n",
       "</style>\n",
       "<table border=\"1\" class=\"dataframe\">\n",
       "  <thead>\n",
       "    <tr style=\"text-align: right;\">\n",
       "      <th></th>\n",
       "      <th>balance_eod</th>\n",
       "      <th>running_total_swipe_count</th>\n",
       "      <th>swipe_flag</th>\n",
       "      <th>first_deposit_amount</th>\n",
       "      <th>deposit_flag</th>\n",
       "      <th>protected_flag</th>\n",
       "      <th>individual_protected_balance_eod</th>\n",
       "    </tr>\n",
       "  </thead>\n",
       "  <tbody>\n",
       "    <tr>\n",
       "      <th>count</th>\n",
       "      <td>1203.000000</td>\n",
       "      <td>1203.000000</td>\n",
       "      <td>1203.000000</td>\n",
       "      <td>238.000000</td>\n",
       "      <td>1203.000000</td>\n",
       "      <td>1203.000000</td>\n",
       "      <td>1203.000000</td>\n",
       "    </tr>\n",
       "    <tr>\n",
       "      <th>mean</th>\n",
       "      <td>103.994755</td>\n",
       "      <td>0.507897</td>\n",
       "      <td>0.080632</td>\n",
       "      <td>429.095462</td>\n",
       "      <td>0.197839</td>\n",
       "      <td>0.058188</td>\n",
       "      <td>34.197714</td>\n",
       "    </tr>\n",
       "    <tr>\n",
       "      <th>std</th>\n",
       "      <td>663.204145</td>\n",
       "      <td>2.488940</td>\n",
       "      <td>0.272382</td>\n",
       "      <td>889.087671</td>\n",
       "      <td>0.398536</td>\n",
       "      <td>0.234196</td>\n",
       "      <td>335.875943</td>\n",
       "    </tr>\n",
       "    <tr>\n",
       "      <th>min</th>\n",
       "      <td>-40.520000</td>\n",
       "      <td>0.000000</td>\n",
       "      <td>0.000000</td>\n",
       "      <td>1.310000</td>\n",
       "      <td>0.000000</td>\n",
       "      <td>0.000000</td>\n",
       "      <td>0.000000</td>\n",
       "    </tr>\n",
       "    <tr>\n",
       "      <th>25%</th>\n",
       "      <td>0.000000</td>\n",
       "      <td>0.000000</td>\n",
       "      <td>0.000000</td>\n",
       "      <td>16.997500</td>\n",
       "      <td>0.000000</td>\n",
       "      <td>0.000000</td>\n",
       "      <td>0.000000</td>\n",
       "    </tr>\n",
       "    <tr>\n",
       "      <th>50%</th>\n",
       "      <td>0.000000</td>\n",
       "      <td>0.000000</td>\n",
       "      <td>0.000000</td>\n",
       "      <td>57.365000</td>\n",
       "      <td>0.000000</td>\n",
       "      <td>0.000000</td>\n",
       "      <td>0.000000</td>\n",
       "    </tr>\n",
       "    <tr>\n",
       "      <th>75%</th>\n",
       "      <td>0.000000</td>\n",
       "      <td>0.000000</td>\n",
       "      <td>0.000000</td>\n",
       "      <td>400.000000</td>\n",
       "      <td>0.000000</td>\n",
       "      <td>0.000000</td>\n",
       "      <td>0.000000</td>\n",
       "    </tr>\n",
       "    <tr>\n",
       "      <th>max</th>\n",
       "      <td>11640.530000</td>\n",
       "      <td>28.000000</td>\n",
       "      <td>1.000000</td>\n",
       "      <td>5000.000000</td>\n",
       "      <td>1.000000</td>\n",
       "      <td>1.000000</td>\n",
       "      <td>5000.000000</td>\n",
       "    </tr>\n",
       "  </tbody>\n",
       "</table>\n",
       "</div>"
      ],
      "text/plain": [
       "        balance_eod  running_total_swipe_count   swipe_flag  \\\n",
       "count   1203.000000                1203.000000  1203.000000   \n",
       "mean     103.994755                   0.507897     0.080632   \n",
       "std      663.204145                   2.488940     0.272382   \n",
       "min      -40.520000                   0.000000     0.000000   \n",
       "25%        0.000000                   0.000000     0.000000   \n",
       "50%        0.000000                   0.000000     0.000000   \n",
       "75%        0.000000                   0.000000     0.000000   \n",
       "max    11640.530000                  28.000000     1.000000   \n",
       "\n",
       "       first_deposit_amount  deposit_flag  protected_flag  \\\n",
       "count            238.000000   1203.000000     1203.000000   \n",
       "mean             429.095462      0.197839        0.058188   \n",
       "std              889.087671      0.398536        0.234196   \n",
       "min                1.310000      0.000000        0.000000   \n",
       "25%               16.997500      0.000000        0.000000   \n",
       "50%               57.365000      0.000000        0.000000   \n",
       "75%              400.000000      0.000000        0.000000   \n",
       "max             5000.000000      1.000000        1.000000   \n",
       "\n",
       "       individual_protected_balance_eod  \n",
       "count                       1203.000000  \n",
       "mean                          34.197714  \n",
       "std                          335.875943  \n",
       "min                            0.000000  \n",
       "25%                            0.000000  \n",
       "50%                            0.000000  \n",
       "75%                            0.000000  \n",
       "max                         5000.000000  "
      ]
     },
     "execution_count": 61,
     "metadata": {},
     "output_type": "execute_result"
    }
   ],
   "source": [
    "social_proof.describe()"
   ]
  },
  {
   "cell_type": "code",
   "execution_count": 62,
   "metadata": {},
   "outputs": [
    {
     "data": {
      "text/html": [
       "<div>\n",
       "<style scoped>\n",
       "    .dataframe tbody tr th:only-of-type {\n",
       "        vertical-align: middle;\n",
       "    }\n",
       "\n",
       "    .dataframe tbody tr th {\n",
       "        vertical-align: top;\n",
       "    }\n",
       "\n",
       "    .dataframe thead th {\n",
       "        text-align: right;\n",
       "    }\n",
       "</style>\n",
       "<table border=\"1\" class=\"dataframe\">\n",
       "  <thead>\n",
       "    <tr style=\"text-align: right;\">\n",
       "      <th></th>\n",
       "      <th>balance_eod</th>\n",
       "      <th>running_total_swipe_count</th>\n",
       "      <th>swipe_flag</th>\n",
       "      <th>first_deposit_amount</th>\n",
       "      <th>deposit_flag</th>\n",
       "      <th>protected_flag</th>\n",
       "      <th>individual_protected_balance_eod</th>\n",
       "    </tr>\n",
       "  </thead>\n",
       "  <tbody>\n",
       "    <tr>\n",
       "      <th>count</th>\n",
       "      <td>1262.000000</td>\n",
       "      <td>1262.000000</td>\n",
       "      <td>1262.000000</td>\n",
       "      <td>243.000000</td>\n",
       "      <td>1262.000000</td>\n",
       "      <td>1262.000000</td>\n",
       "      <td>1262.000000</td>\n",
       "    </tr>\n",
       "    <tr>\n",
       "      <th>mean</th>\n",
       "      <td>106.662298</td>\n",
       "      <td>0.431062</td>\n",
       "      <td>0.083201</td>\n",
       "      <td>511.062469</td>\n",
       "      <td>0.192552</td>\n",
       "      <td>0.072108</td>\n",
       "      <td>52.231553</td>\n",
       "    </tr>\n",
       "    <tr>\n",
       "      <th>std</th>\n",
       "      <td>589.711463</td>\n",
       "      <td>2.192465</td>\n",
       "      <td>0.276296</td>\n",
       "      <td>1111.746115</td>\n",
       "      <td>0.394460</td>\n",
       "      <td>0.258769</td>\n",
       "      <td>431.325706</td>\n",
       "    </tr>\n",
       "    <tr>\n",
       "      <th>min</th>\n",
       "      <td>-30.010000</td>\n",
       "      <td>0.000000</td>\n",
       "      <td>0.000000</td>\n",
       "      <td>1.410000</td>\n",
       "      <td>0.000000</td>\n",
       "      <td>0.000000</td>\n",
       "      <td>0.000000</td>\n",
       "    </tr>\n",
       "    <tr>\n",
       "      <th>25%</th>\n",
       "      <td>0.000000</td>\n",
       "      <td>0.000000</td>\n",
       "      <td>0.000000</td>\n",
       "      <td>12.600000</td>\n",
       "      <td>0.000000</td>\n",
       "      <td>0.000000</td>\n",
       "      <td>0.000000</td>\n",
       "    </tr>\n",
       "    <tr>\n",
       "      <th>50%</th>\n",
       "      <td>0.000000</td>\n",
       "      <td>0.000000</td>\n",
       "      <td>0.000000</td>\n",
       "      <td>50.000000</td>\n",
       "      <td>0.000000</td>\n",
       "      <td>0.000000</td>\n",
       "      <td>0.000000</td>\n",
       "    </tr>\n",
       "    <tr>\n",
       "      <th>75%</th>\n",
       "      <td>0.000000</td>\n",
       "      <td>0.000000</td>\n",
       "      <td>0.000000</td>\n",
       "      <td>300.000000</td>\n",
       "      <td>0.000000</td>\n",
       "      <td>0.000000</td>\n",
       "      <td>0.000000</td>\n",
       "    </tr>\n",
       "    <tr>\n",
       "      <th>max</th>\n",
       "      <td>7090.660000</td>\n",
       "      <td>37.000000</td>\n",
       "      <td>1.000000</td>\n",
       "      <td>5000.000000</td>\n",
       "      <td>1.000000</td>\n",
       "      <td>1.000000</td>\n",
       "      <td>7085.660000</td>\n",
       "    </tr>\n",
       "  </tbody>\n",
       "</table>\n",
       "</div>"
      ],
      "text/plain": [
       "       balance_eod  running_total_swipe_count   swipe_flag  \\\n",
       "count  1262.000000                1262.000000  1262.000000   \n",
       "mean    106.662298                   0.431062     0.083201   \n",
       "std     589.711463                   2.192465     0.276296   \n",
       "min     -30.010000                   0.000000     0.000000   \n",
       "25%       0.000000                   0.000000     0.000000   \n",
       "50%       0.000000                   0.000000     0.000000   \n",
       "75%       0.000000                   0.000000     0.000000   \n",
       "max    7090.660000                  37.000000     1.000000   \n",
       "\n",
       "       first_deposit_amount  deposit_flag  protected_flag  \\\n",
       "count            243.000000   1262.000000     1262.000000   \n",
       "mean             511.062469      0.192552        0.072108   \n",
       "std             1111.746115      0.394460        0.258769   \n",
       "min                1.410000      0.000000        0.000000   \n",
       "25%               12.600000      0.000000        0.000000   \n",
       "50%               50.000000      0.000000        0.000000   \n",
       "75%              300.000000      0.000000        0.000000   \n",
       "max             5000.000000      1.000000        1.000000   \n",
       "\n",
       "       individual_protected_balance_eod  \n",
       "count                       1262.000000  \n",
       "mean                          52.231553  \n",
       "std                          431.325706  \n",
       "min                            0.000000  \n",
       "25%                            0.000000  \n",
       "50%                            0.000000  \n",
       "75%                            0.000000  \n",
       "max                         7085.660000  "
      ]
     },
     "execution_count": 62,
     "metadata": {},
     "output_type": "execute_result"
    }
   ],
   "source": [
    "control.describe()"
   ]
  },
  {
   "cell_type": "markdown",
   "metadata": {},
   "source": [
    "## T Test for Balance"
   ]
  },
  {
   "cell_type": "code",
   "execution_count": 63,
   "metadata": {},
   "outputs": [
    {
     "name": "stdout",
     "output_type": "stream",
     "text": [
      "Balance: T-Test for equal means: p-value = 0.9158749667690324\n"
     ]
    }
   ],
   "source": [
    "tt = stats.ttest_ind(social_proof.balance_eod, control.balance_eod, nan_policy='omit')\n",
    "print(\"Balance: T-Test for equal means: p-value = {}\".format(tt.pvalue))"
   ]
  },
  {
   "cell_type": "markdown",
   "metadata": {},
   "source": [
    "## Chi Square Deposit Flag"
   ]
  },
  {
   "cell_type": "code",
   "execution_count": 64,
   "metadata": {},
   "outputs": [
    {
     "name": "stdout",
     "output_type": "stream",
     "text": [
      "Deposit Flag Day 14 - Chi2 Test for Proportions: p-value = 0.7792785399166784\n"
     ]
    }
   ],
   "source": [
    "# Calculation Unique Contact - Chi Square Test\n",
    "obs = np.array([[social_proof[social_proof.deposit_flag ==1].user_ref.count(),\n",
    "                 social_proof[social_proof.deposit_flag ==0].user_ref.count()],\n",
    "                [control[control.deposit_flag ==1].user_ref.count(),\n",
    "                 control[control.deposit_flag ==0].user_ref.count()]])\n",
    "\n",
    "chi2, p, dof, expected = stats.chi2_contingency(obs)\n",
    "\n",
    "print(\"Deposit Flag Day 14 - Chi2 Test for Proportions: p-value = {}\".format(p))"
   ]
  },
  {
   "cell_type": "markdown",
   "metadata": {},
   "source": [
    "## T Test for First Deposit Amount"
   ]
  },
  {
   "cell_type": "code",
   "execution_count": 65,
   "metadata": {},
   "outputs": [
    {
     "name": "stdout",
     "output_type": "stream",
     "text": [
      "Balance: T-Test for equal means: p-value = 0.37290465895744973\n"
     ]
    }
   ],
   "source": [
    "tt = stats.ttest_ind(social_proof.first_deposit_amount, control.first_deposit_amount, nan_policy='omit')\n",
    "print(\"Balance: T-Test for equal means: p-value = {}\".format(tt.pvalue))"
   ]
  },
  {
   "cell_type": "markdown",
   "metadata": {},
   "source": [
    "## Chi Square Swipe Flag"
   ]
  },
  {
   "cell_type": "code",
   "execution_count": 67,
   "metadata": {},
   "outputs": [
    {
     "name": "stdout",
     "output_type": "stream",
     "text": [
      "Deposit Flag Day 14 - Chi2 Test for Proportions: p-value = 0.8736405766165148\n"
     ]
    }
   ],
   "source": [
    "# Calculation Unique Contact - Chi Square Test\n",
    "\n",
    "obs = np.array([[social_proof[social_proof.swipe_flag == 1].user_ref.count(),\n",
    "                 social_proof[social_proof.swipe_flag ==0].user_ref.count()],\n",
    "                [control[control.swipe_flag == 1].user_ref.count(),\n",
    "                 control[control.swipe_flag ==0].user_ref.count()]])\n",
    "\n",
    "chi2, p, dof, expected = stats.chi2_contingency(obs)\n",
    "\n",
    "print(\"Deposit Flag Day 14 - Chi2 Test for Proportions: p-value = {}\".format(p))"
   ]
  },
  {
   "cell_type": "markdown",
   "metadata": {},
   "source": [
    "## T Test for Number of Swipes"
   ]
  },
  {
   "cell_type": "code",
   "execution_count": 68,
   "metadata": {},
   "outputs": [
    {
     "name": "stdout",
     "output_type": "stream",
     "text": [
      "Swipes Day 14: T-Test for equal means: p-value = 0.41558272820664466\n"
     ]
    }
   ],
   "source": [
    "tt = stats.ttest_ind(social_proof.running_total_swipe_count, control.running_total_swipe_count, nan_policy='omit')\n",
    "print(\"Swipes Day 14: T-Test for equal means: p-value = {}\".format(tt.pvalue))"
   ]
  },
  {
   "cell_type": "markdown",
   "metadata": {},
   "source": [
    "## Chi Square Protected Goal Flag"
   ]
  },
  {
   "cell_type": "code",
   "execution_count": 69,
   "metadata": {},
   "outputs": [
    {
     "name": "stdout",
     "output_type": "stream",
     "text": [
      "Protected Goal Flag - Chi2 Test for Proportions: p-value = 0.187970773787099\n"
     ]
    }
   ],
   "source": [
    "# Calculation Unique Contact - Chi Square Test\n",
    "\n",
    "obs = np.array([[social_proof[social_proof.protected_flag == 1].user_ref.count(),\n",
    "                 social_proof[social_proof.protected_flag ==0].user_ref.count()],\n",
    "                [control[control.protected_flag == 1].user_ref.count(),\n",
    "                 control[control.protected_flag ==0].user_ref.count()]])\n",
    "\n",
    "chi2, p, dof, expected = stats.chi2_contingency(obs)\n",
    "\n",
    "print(\"Protected Goal Flag - Chi2 Test for Proportions: p-value = {}\".format(p))"
   ]
  },
  {
   "cell_type": "markdown",
   "metadata": {},
   "source": [
    "## T Test for Protected Goal Balance"
   ]
  },
  {
   "cell_type": "code",
   "execution_count": 40,
   "metadata": {},
   "outputs": [
    {
     "name": "stdout",
     "output_type": "stream",
     "text": [
      "Individual Protected Balance: T-Test for equal means: p-value = 0.24844806026579042\n"
     ]
    }
   ],
   "source": [
    "tt = stats.ttest_ind(social_proof.individual_protected_balance_eod, control.individual_protected_balance_eod, nan_policy='omit')\n",
    "print(\"Individual Protected Balance: T-Test for equal means: p-value = {}\".format(tt.pvalue))"
   ]
  },
  {
   "cell_type": "markdown",
   "metadata": {},
   "source": []
  }
 ],
 "metadata": {
  "kernelspec": {
   "display_name": "Python 3",
   "language": "python",
   "name": "python3"
  },
  "language_info": {
   "codemirror_mode": {
    "name": "ipython",
    "version": 3
   },
   "file_extension": ".py",
   "mimetype": "text/x-python",
   "name": "python",
   "nbconvert_exporter": "python",
   "pygments_lexer": "ipython3",
   "version": "3.6.3"
  }
 },
 "nbformat": 4,
 "nbformat_minor": 2
}
