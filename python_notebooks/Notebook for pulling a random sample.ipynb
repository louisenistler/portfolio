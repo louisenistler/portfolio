{
 "cells": [
  {
   "cell_type": "code",
   "execution_count": 1,
   "metadata": {
    "collapsed": true
   },
   "outputs": [],
   "source": [
    "import pandas as pd\n",
    "import numpy as np\n",
    "import random\n",
    "from simply import redshift\n",
    "from scipy import stats"
   ]
  },
  {
   "cell_type": "markdown",
   "metadata": {},
   "source": [
    "### STEP 1: Make a copy of this notebook in your own folder\n",
    "####  - Preferably in the `src` folder associated with the ticket to pull the groups for the particular experiment."
   ]
  },
  {
   "cell_type": "markdown",
   "metadata": {},
   "source": [
    "### STEP 2: Generate the population from which to draw the samples\n",
    "Enter your query below to generate a list of `user_ref`s from the population of interest. For this example I took all currently enrolled customers (removing known fraudsters). If there are any exclusionary criteria for your experiment, add those into this query. The result should be a list of all possible `user_ref`s from which the sample will be drawn. (**Note: Be cautious if adding exclusionary criteria - the results of the experiment can only be used to inform an understanding of the population of interest**). \n",
    "\n",
    "If you are interested in applying any insights/inferences to the entire customer base, you must draw from the entire customer base (i.e., no exclusionary criteria). If you are interested in understanding a subset of customers (e.g., people who live in cities)- then limit the population (e.g., list of all customers who live in cities), with the awareness that the results _cannot_ be used to make any inferences about customers not in the population (e.g., we will still know nothing about customers who do not live in cities after this experiment). \n",
    "\n",
    "Reach out if you have any questions!"
   ]
  },
  {
   "cell_type": "code",
   "execution_count": 2,
   "metadata": {
    "collapsed": true
   },
   "outputs": [],
   "source": [
    "df = redshift(\n",
    "#Query here - I have used all currently enrolled customers who are not known fraudsters.  (Limited to enrolled in 2018 for query performance)\n",
    "\"\"\"\n",
    "SELECT user_ref \n",
    "FROM curated.dim_user\n",
    "WHERE is_fraudster is false\n",
    "    AND num_open_accounts > 0\n",
    "    AND first_account_open_date BETWEEN '2018-01-01' AND '2018-12-31' --limited for query performance\n",
    "\"\"\"\n",
    ")"
   ]
  },
  {
   "cell_type": "markdown",
   "metadata": {},
   "source": [
    "### STEP 3: Draw the random samples\n",
    "\n",
    "Then we identify the size for the experimental and control groups. Often these are the same size, but this can vary. Note that if you want to use different sized experimental and control groups, the control group must _at minimum_ be big enough to have enough statistical power to detect a difference in the effect of interest. Experimental also needs to be big enough to detect a statistical difference. This can be calculated from a power analysis. Again, reach out if unsure. Once you have calculated the size for each group, enter them below."
   ]
  },
  {
   "cell_type": "code",
   "execution_count": 3,
   "metadata": {
    "collapsed": true
   },
   "outputs": [],
   "source": [
    "# Modify the numbers here to reflect the number of customers you want to include in\n",
    "#the experimental and control groups\n",
    "experimental_num = 10000\n",
    "control_num = 10000"
   ]
  },
  {
   "cell_type": "markdown",
   "metadata": {},
   "source": [
    "Below we are generating the random samples for experimental and control group."
   ]
  },
  {
   "cell_type": "code",
   "execution_count": 16,
   "metadata": {
    "collapsed": true
   },
   "outputs": [],
   "source": [
    "possible = pd.DataFrame(df.user_ref.unique())\n",
    "possible.columns = ['user_ref']\n",
    "experimental_users = random.sample(list(possible.user_ref), experimental_num)\n",
    "remaining = possible[~possible.user_ref.isin(experimental_users)]\n",
    "control_users = random.sample(list(remaining.user_ref), control_num)\n",
    "unused = possible[(~possible.user_ref.isin(experimental_users))&(~possible.user_ref.isin(control_users))]"
   ]
  },
  {
   "cell_type": "markdown",
   "metadata": {},
   "source": [
    "### STEP 4: Get the baseline metrics for experimental and control groups \n",
    "\n",
    "Now that we have our list of experimental and control users, we get their baseline metrics and compare to the total population. I have included average-balance-past-90-days, deposits-past-90-days, swipe-count-past-90-days, and swipe-volume-past-90-days. If you would like to include others add them to the query below (ex: KPIs or metrics you care about in the experiment). However, keep in mind that the more things you want to control for the more stringent your statistical test needs to be to avoid risk of a false positive.\n",
    "\n",
    "**Rule of thumb: Focus on (ideally) 2-3 key metrics.** These will depend on the particular experiment and hypotheses. If you are conducting a similar test in two different populations (e.g., profitable versus non-profitable) - treat these as distinct experiments and focus on 2-3 key metrics in each (they can be the same or different metrics). For example, you might have a different hypothesis/assumption for profitable than for unprofitable customers; in this case your metrics of interest may differ."
   ]
  },
  {
   "cell_type": "code",
   "execution_count": 5,
   "metadata": {
    "collapsed": true,
    "scrolled": true
   },
   "outputs": [],
   "source": [
    "baseline_query = \"\"\"\n",
    "SELECT \n",
    "    user_ref, \n",
    "    avg(balance_eod) AS avg_balance,\n",
    "    sum(deposit_amount) AS deposits_past90,\n",
    "    sum(swipe_amount) AS swipe_vol_past90,\n",
    "    sum(swipe_count) AS swipe_count_past90\n",
    "FROM curated.fact_customer_day\n",
    "WHERE user_ref IN :users\n",
    "    AND date > CURRENT_DATE-90\n",
    "GROUP BY user_ref\n",
    "\"\"\""
   ]
  },
  {
   "cell_type": "code",
   "execution_count": 22,
   "metadata": {
    "collapsed": true
   },
   "outputs": [],
   "source": [
    "exp_ids = tuple(experimental_users)\n",
    "cont_ids = tuple(control_users)\n",
    "all_ids = tuple(possible.user_ref)"
   ]
  },
  {
   "cell_type": "code",
   "execution_count": 7,
   "metadata": {},
   "outputs": [
    {
     "data": {
      "text/plain": [
       "10000"
      ]
     },
     "execution_count": 7,
     "metadata": {},
     "output_type": "execute_result"
    }
   ],
   "source": [
    "len(exp_ids)"
   ]
  },
  {
   "cell_type": "code",
   "execution_count": 8,
   "metadata": {
    "collapsed": true
   },
   "outputs": [],
   "source": [
    "test = redshift(\n",
    "\"\"\"\n",
    "SELECT user_ref \n",
    "FROM curated.fact_customer_day\n",
    "WHERE user_ref IN :ids\n",
    "     AND date >= CURRENT_DATE-7\n",
    "\"\"\"\n",
    ", params = {'ids': exp_ids})"
   ]
  },
  {
   "cell_type": "code",
   "execution_count": 9,
   "metadata": {},
   "outputs": [
    {
     "data": {
      "text/html": [
       "<div>\n",
       "<style scoped>\n",
       "    .dataframe tbody tr th:only-of-type {\n",
       "        vertical-align: middle;\n",
       "    }\n",
       "\n",
       "    .dataframe tbody tr th {\n",
       "        vertical-align: top;\n",
       "    }\n",
       "\n",
       "    .dataframe thead th {\n",
       "        text-align: right;\n",
       "    }\n",
       "</style>\n",
       "<table border=\"1\" class=\"dataframe\">\n",
       "  <thead>\n",
       "    <tr style=\"text-align: right;\">\n",
       "      <th></th>\n",
       "      <th>user_ref</th>\n",
       "    </tr>\n",
       "  </thead>\n",
       "  <tbody>\n",
       "    <tr>\n",
       "      <th>count</th>\n",
       "      <td>80000</td>\n",
       "    </tr>\n",
       "    <tr>\n",
       "      <th>unique</th>\n",
       "      <td>10000</td>\n",
       "    </tr>\n",
       "    <tr>\n",
       "      <th>top</th>\n",
       "      <td>b3a11722-529b-40ef-8d51-39bf0e87f238</td>\n",
       "    </tr>\n",
       "    <tr>\n",
       "      <th>freq</th>\n",
       "      <td>8</td>\n",
       "    </tr>\n",
       "  </tbody>\n",
       "</table>\n",
       "</div>"
      ],
      "text/plain": [
       "                                    user_ref\n",
       "count                                  80000\n",
       "unique                                 10000\n",
       "top     b3a11722-529b-40ef-8d51-39bf0e87f238\n",
       "freq                                       8"
      ]
     },
     "execution_count": 9,
     "metadata": {},
     "output_type": "execute_result"
    }
   ],
   "source": [
    "test.describe()"
   ]
  },
  {
   "cell_type": "code",
   "execution_count": 10,
   "metadata": {
    "collapsed": true
   },
   "outputs": [],
   "source": [
    "def get_activity(ids):\n",
    "    return redshift(baseline_query, params = {'users':ids})"
   ]
  },
  {
   "cell_type": "code",
   "execution_count": 23,
   "metadata": {
    "collapsed": true,
    "scrolled": true
   },
   "outputs": [],
   "source": [
    "experimental_baseline = get_activity(exp_ids)\n",
    "control_baseline = get_activity(cont_ids)\n",
    "all_baseline = get_activity(all_ids)"
   ]
  },
  {
   "cell_type": "code",
   "execution_count": 24,
   "metadata": {},
   "outputs": [
    {
     "data": {
      "text/html": [
       "<div>\n",
       "<style scoped>\n",
       "    .dataframe tbody tr th:only-of-type {\n",
       "        vertical-align: middle;\n",
       "    }\n",
       "\n",
       "    .dataframe tbody tr th {\n",
       "        vertical-align: top;\n",
       "    }\n",
       "\n",
       "    .dataframe thead th {\n",
       "        text-align: right;\n",
       "    }\n",
       "</style>\n",
       "<table border=\"1\" class=\"dataframe\">\n",
       "  <thead>\n",
       "    <tr style=\"text-align: right;\">\n",
       "      <th></th>\n",
       "      <th>avg_balance</th>\n",
       "      <th>deposits_past90</th>\n",
       "      <th>swipe_vol_past90</th>\n",
       "      <th>swipe_count_past90</th>\n",
       "    </tr>\n",
       "  </thead>\n",
       "  <tbody>\n",
       "    <tr>\n",
       "      <th>count</th>\n",
       "      <td>133631.000000</td>\n",
       "      <td>133631.000000</td>\n",
       "      <td>133631.000000</td>\n",
       "      <td>133631.000000</td>\n",
       "    </tr>\n",
       "    <tr>\n",
       "      <th>mean</th>\n",
       "      <td>525.983189</td>\n",
       "      <td>1299.312599</td>\n",
       "      <td>-703.805719</td>\n",
       "      <td>23.131639</td>\n",
       "    </tr>\n",
       "    <tr>\n",
       "      <th>std</th>\n",
       "      <td>4063.795985</td>\n",
       "      <td>4540.635011</td>\n",
       "      <td>2077.870132</td>\n",
       "      <td>58.332404</td>\n",
       "    </tr>\n",
       "    <tr>\n",
       "      <th>min</th>\n",
       "      <td>-9931.086000</td>\n",
       "      <td>0.000000</td>\n",
       "      <td>-91136.890000</td>\n",
       "      <td>0.000000</td>\n",
       "    </tr>\n",
       "    <tr>\n",
       "      <th>25%</th>\n",
       "      <td>0.000000</td>\n",
       "      <td>0.000000</td>\n",
       "      <td>-86.875000</td>\n",
       "      <td>0.000000</td>\n",
       "    </tr>\n",
       "    <tr>\n",
       "      <th>50%</th>\n",
       "      <td>0.000000</td>\n",
       "      <td>0.000000</td>\n",
       "      <td>0.000000</td>\n",
       "      <td>0.000000</td>\n",
       "    </tr>\n",
       "    <tr>\n",
       "      <th>75%</th>\n",
       "      <td>30.260500</td>\n",
       "      <td>178.000000</td>\n",
       "      <td>0.000000</td>\n",
       "      <td>5.000000</td>\n",
       "    </tr>\n",
       "    <tr>\n",
       "      <th>max</th>\n",
       "      <td>453461.877000</td>\n",
       "      <td>631295.170000</td>\n",
       "      <td>0.000000</td>\n",
       "      <td>805.000000</td>\n",
       "    </tr>\n",
       "  </tbody>\n",
       "</table>\n",
       "</div>"
      ],
      "text/plain": [
       "         avg_balance  deposits_past90  swipe_vol_past90  swipe_count_past90\n",
       "count  133631.000000    133631.000000     133631.000000       133631.000000\n",
       "mean      525.983189      1299.312599       -703.805719           23.131639\n",
       "std      4063.795985      4540.635011       2077.870132           58.332404\n",
       "min     -9931.086000         0.000000     -91136.890000            0.000000\n",
       "25%         0.000000         0.000000        -86.875000            0.000000\n",
       "50%         0.000000         0.000000          0.000000            0.000000\n",
       "75%        30.260500       178.000000          0.000000            5.000000\n",
       "max    453461.877000    631295.170000          0.000000          805.000000"
      ]
     },
     "execution_count": 24,
     "metadata": {},
     "output_type": "execute_result"
    }
   ],
   "source": [
    "all_baseline.describe()"
   ]
  },
  {
   "cell_type": "code",
   "execution_count": 25,
   "metadata": {},
   "outputs": [
    {
     "data": {
      "text/html": [
       "<div>\n",
       "<style scoped>\n",
       "    .dataframe tbody tr th:only-of-type {\n",
       "        vertical-align: middle;\n",
       "    }\n",
       "\n",
       "    .dataframe tbody tr th {\n",
       "        vertical-align: top;\n",
       "    }\n",
       "\n",
       "    .dataframe thead th {\n",
       "        text-align: right;\n",
       "    }\n",
       "</style>\n",
       "<table border=\"1\" class=\"dataframe\">\n",
       "  <thead>\n",
       "    <tr style=\"text-align: right;\">\n",
       "      <th></th>\n",
       "      <th>avg_balance</th>\n",
       "      <th>deposits_past90</th>\n",
       "      <th>swipe_vol_past90</th>\n",
       "      <th>swipe_count_past90</th>\n",
       "    </tr>\n",
       "  </thead>\n",
       "  <tbody>\n",
       "    <tr>\n",
       "      <th>count</th>\n",
       "      <td>10000.000000</td>\n",
       "      <td>10000.000000</td>\n",
       "      <td>10000.000000</td>\n",
       "      <td>10000.000000</td>\n",
       "    </tr>\n",
       "    <tr>\n",
       "      <th>mean</th>\n",
       "      <td>505.398406</td>\n",
       "      <td>1241.779363</td>\n",
       "      <td>-686.862690</td>\n",
       "      <td>22.636300</td>\n",
       "    </tr>\n",
       "    <tr>\n",
       "      <th>std</th>\n",
       "      <td>3174.367129</td>\n",
       "      <td>3707.289965</td>\n",
       "      <td>1972.165563</td>\n",
       "      <td>57.038342</td>\n",
       "    </tr>\n",
       "    <tr>\n",
       "      <th>min</th>\n",
       "      <td>-1437.782000</td>\n",
       "      <td>0.000000</td>\n",
       "      <td>-43318.540000</td>\n",
       "      <td>0.000000</td>\n",
       "    </tr>\n",
       "    <tr>\n",
       "      <th>25%</th>\n",
       "      <td>0.000000</td>\n",
       "      <td>0.000000</td>\n",
       "      <td>-94.590000</td>\n",
       "      <td>0.000000</td>\n",
       "    </tr>\n",
       "    <tr>\n",
       "      <th>50%</th>\n",
       "      <td>0.000000</td>\n",
       "      <td>0.000000</td>\n",
       "      <td>0.000000</td>\n",
       "      <td>0.000000</td>\n",
       "    </tr>\n",
       "    <tr>\n",
       "      <th>75%</th>\n",
       "      <td>28.772500</td>\n",
       "      <td>184.775000</td>\n",
       "      <td>0.000000</td>\n",
       "      <td>5.000000</td>\n",
       "    </tr>\n",
       "    <tr>\n",
       "      <th>max</th>\n",
       "      <td>111485.268000</td>\n",
       "      <td>105727.030000</td>\n",
       "      <td>0.000000</td>\n",
       "      <td>555.000000</td>\n",
       "    </tr>\n",
       "  </tbody>\n",
       "</table>\n",
       "</div>"
      ],
      "text/plain": [
       "         avg_balance  deposits_past90  swipe_vol_past90  swipe_count_past90\n",
       "count   10000.000000     10000.000000      10000.000000        10000.000000\n",
       "mean      505.398406      1241.779363       -686.862690           22.636300\n",
       "std      3174.367129      3707.289965       1972.165563           57.038342\n",
       "min     -1437.782000         0.000000     -43318.540000            0.000000\n",
       "25%         0.000000         0.000000        -94.590000            0.000000\n",
       "50%         0.000000         0.000000          0.000000            0.000000\n",
       "75%        28.772500       184.775000          0.000000            5.000000\n",
       "max    111485.268000    105727.030000          0.000000          555.000000"
      ]
     },
     "execution_count": 25,
     "metadata": {},
     "output_type": "execute_result"
    }
   ],
   "source": [
    "experimental_baseline.describe()"
   ]
  },
  {
   "cell_type": "code",
   "execution_count": 26,
   "metadata": {},
   "outputs": [
    {
     "data": {
      "text/html": [
       "<div>\n",
       "<style scoped>\n",
       "    .dataframe tbody tr th:only-of-type {\n",
       "        vertical-align: middle;\n",
       "    }\n",
       "\n",
       "    .dataframe tbody tr th {\n",
       "        vertical-align: top;\n",
       "    }\n",
       "\n",
       "    .dataframe thead th {\n",
       "        text-align: right;\n",
       "    }\n",
       "</style>\n",
       "<table border=\"1\" class=\"dataframe\">\n",
       "  <thead>\n",
       "    <tr style=\"text-align: right;\">\n",
       "      <th></th>\n",
       "      <th>avg_balance</th>\n",
       "      <th>deposits_past90</th>\n",
       "      <th>swipe_vol_past90</th>\n",
       "      <th>swipe_count_past90</th>\n",
       "    </tr>\n",
       "  </thead>\n",
       "  <tbody>\n",
       "    <tr>\n",
       "      <th>count</th>\n",
       "      <td>10000.000000</td>\n",
       "      <td>10000.000000</td>\n",
       "      <td>10000.000000</td>\n",
       "      <td>10000.000000</td>\n",
       "    </tr>\n",
       "    <tr>\n",
       "      <th>mean</th>\n",
       "      <td>506.422217</td>\n",
       "      <td>1306.618346</td>\n",
       "      <td>-691.431426</td>\n",
       "      <td>22.418950</td>\n",
       "    </tr>\n",
       "    <tr>\n",
       "      <th>std</th>\n",
       "      <td>3542.407041</td>\n",
       "      <td>4336.297753</td>\n",
       "      <td>2011.930129</td>\n",
       "      <td>56.916395</td>\n",
       "    </tr>\n",
       "    <tr>\n",
       "      <th>min</th>\n",
       "      <td>-1882.800000</td>\n",
       "      <td>0.000000</td>\n",
       "      <td>-35597.950000</td>\n",
       "      <td>0.000000</td>\n",
       "    </tr>\n",
       "    <tr>\n",
       "      <th>25%</th>\n",
       "      <td>0.000000</td>\n",
       "      <td>0.000000</td>\n",
       "      <td>-61.672500</td>\n",
       "      <td>0.000000</td>\n",
       "    </tr>\n",
       "    <tr>\n",
       "      <th>50%</th>\n",
       "      <td>0.000000</td>\n",
       "      <td>0.000000</td>\n",
       "      <td>0.000000</td>\n",
       "      <td>0.000000</td>\n",
       "    </tr>\n",
       "    <tr>\n",
       "      <th>75%</th>\n",
       "      <td>28.571250</td>\n",
       "      <td>150.000000</td>\n",
       "      <td>0.000000</td>\n",
       "      <td>4.000000</td>\n",
       "    </tr>\n",
       "    <tr>\n",
       "      <th>max</th>\n",
       "      <td>148731.683000</td>\n",
       "      <td>153362.295000</td>\n",
       "      <td>0.000000</td>\n",
       "      <td>577.000000</td>\n",
       "    </tr>\n",
       "  </tbody>\n",
       "</table>\n",
       "</div>"
      ],
      "text/plain": [
       "         avg_balance  deposits_past90  swipe_vol_past90  swipe_count_past90\n",
       "count   10000.000000     10000.000000      10000.000000        10000.000000\n",
       "mean      506.422217      1306.618346       -691.431426           22.418950\n",
       "std      3542.407041      4336.297753       2011.930129           56.916395\n",
       "min     -1882.800000         0.000000     -35597.950000            0.000000\n",
       "25%         0.000000         0.000000        -61.672500            0.000000\n",
       "50%         0.000000         0.000000          0.000000            0.000000\n",
       "75%        28.571250       150.000000          0.000000            4.000000\n",
       "max    148731.683000    153362.295000          0.000000          577.000000"
      ]
     },
     "execution_count": 26,
     "metadata": {},
     "output_type": "execute_result"
    }
   ],
   "source": [
    "control_baseline.describe()"
   ]
  },
  {
   "cell_type": "markdown",
   "metadata": {},
   "source": [
    "### STEP 5: Make sure the groups don't differ on contact rate\n",
    "\n",
    "Note: You only need to run this part if you will be measuring the impact on contact rate in the experiment.\n",
    "\n",
    "**THIS SECTION (QUERY, ETC.) NEEDS TO BE UPDATED ONCE CALL DATA IS ADDED TO REDSHIFT**"
   ]
  },
  {
   "cell_type": "code",
   "execution_count": 15,
   "metadata": {
    "collapsed": true
   },
   "outputs": [],
   "source": [
    "contact_rate_query = \"\"\"\n",
    "\n",
    "WITH population AS (\n",
    "SELECT\n",
    "\tuser_id \n",
    "FROM mtr_user_demographics\n",
    "WHERE user_id NOT IN (select user_id FROM mtr_known_fraudsters)\n",
    "    AND user_id in :ids\n",
    "),\n",
    "\n",
    "weekly_population AS (\n",
    "SELECT DISTINCT\n",
    "\tuser_id\n",
    "FROM mtr_daily_customer_metrics\n",
    "WHERE user_id IN (SELECT user_id FROM population)\n",
    "\tAND date > DATEADD(day, -30, GETDATE())\n",
    "),\n",
    "\n",
    "touches AS (\n",
    "SELECT\n",
    "  t.user_id,\n",
    "  created_at,\n",
    "  contact_type,\n",
    "  thread_id,\n",
    "  touch_id,\n",
    "  ROW_NUMBER () OVER (PARTITION BY DATE_TRUNC('week', created_at), thread_id ORDER BY created_at) AS order_within_thread\n",
    "FROM(\n",
    "  SELECT\n",
    "    CASE WHEN cc.user_id = '' OR cc.user_id IS NULL THEN 'call_id: ' + call_id ELSE cc.user_id END AS user_id,\n",
    "    c.created_at,\n",
    "    'call' AS contact_type,\n",
    "    call_id AS thread_id,\n",
    "    call_id AS touch_id\n",
    "  FROM current_mabel_full_call c\n",
    "    JOIN mtr_agent_phone_hours p ON DATE_TRUNC('hour', c.created_at) = p.hour\n",
    "    LEFT JOIN mtr_customer_contact cc ON call_id = contact_uuid\n",
    "    LEFT JOIN current_mabel_cdr x ON c.uniqueid = x.uniqueid\n",
    "  WHERE COALESCE(c.duration, datediff(seconds, c.created_at, c.updated_at)) > 30\n",
    "    AND c.src != '8882480632'\n",
    "    AND (x.lastdata IS NULL OR x.lastdata NOT SIMILAR TO '%(apple|android)%')\n",
    "    --AND (interface IS NOT NULL AND interface != '') -- answered calls ONLY, remove this line to include all calls\n",
    "\t\tAND cc.user_id IN (SELECT user_id FROM population)\n",
    "\n",
    "  UNION ALL\n",
    "\n",
    "  SELECT\n",
    "    m.user_uuid AS user_id,\n",
    "    m.created_at,\n",
    "    'chat' AS contact_type,\n",
    "    m.chat_uuid AS thread_id,\n",
    "    m.uuid AS touch_id\n",
    "  FROM current_hummingbird_messages m\n",
    "  LEFT JOIN current_hummingbird_chats c on m.chat_uuid = c.uuid\n",
    "  WHERE subject NOT IN('Apple Pay Verification', 'Android Pay Verification')\n",
    "    AND \"from\" IS NULL\n",
    "\t\tAND m.user_uuid IN (SELECT user_id FROM population)\n",
    "  ) t\n",
    "JOIN population\tUSING(user_id)\n",
    "LEFT JOIN mtr_user_first_activity USING(user_id)\n",
    "LEFT JOIN mtr_monthly_customer_active_state s\n",
    "  ON t.user_id = s.user_id\n",
    "  AND DATEADD(month, -1, DATE_TRUNC('month', created_at)) = month\n",
    "WHERE created_at > DATEADD(day, -30, GETDATE())\n",
    "),\n",
    "\n",
    "touches_by_customers AS(\n",
    "SELECT\n",
    "  user_id,\n",
    "  SUM(CASE WHEN contact_type = 'call' THEN 1 ELSE 0 END) AS count_calls,\n",
    "  SUM(CASE WHEN contact_type = 'chat' AND order_within_thread = 1 THEN 1 ELSE 0 END) AS count_chats,\n",
    "  SUM(CASE WHEN contact_type = 'chat' THEN 1 ELSE 0 END) AS count_messages,\n",
    "  SUM(CASE WHEN contact_type = 'chat' THEN 1 ELSE NULL END) / SUM(CASE WHEN contact_type = 'chat' AND order_within_thread = 1 THEN 1 ELSE NULL END) AS messages_per_chat\n",
    "FROM touches\n",
    "WHERE created_at > DATEADD(day, -30, GETDATE())\n",
    "GROUP BY 1\n",
    "),\n",
    "\n",
    "total_contact_by_user_by_week AS (\n",
    "SELECT\n",
    "\tuser_id,\n",
    "\tSUM(COALESCE(count_calls, 0) + COALESCE(count_messages, 0)) AS total_contact\n",
    "FROM touches_by_customers\t\n",
    "GROUP BY\n",
    "\t1\n",
    ")\n",
    "\n",
    "SELECT DISTINCT\n",
    "\tn.user_id,\n",
    "\tCASE WHEN total_contact IS NULL THEN 0 ELSE 1 END AS unique_contact,\n",
    "\tCASE WHEN total_contact IS NULL THEN 0 ELSE total_contact END AS total_contact\n",
    "FROM weekly_population\tn\n",
    "LEFT JOIN total_contact_by_user_by_week\tw\ton n.user_id = w.user_id\n",
    "ORDER BY 1\n",
    "\n",
    "\"\"\""
   ]
  },
  {
   "cell_type": "code",
   "execution_count": 16,
   "metadata": {
    "collapsed": true
   },
   "outputs": [],
   "source": [
    "exp_contact = redshift(contact_rate_query, params = {'ids':exp_ids})"
   ]
  },
  {
   "cell_type": "code",
   "execution_count": 17,
   "metadata": {
    "collapsed": true
   },
   "outputs": [],
   "source": [
    "con_contact = redshift(contact_rate_query, params = {'ids':cont_ids})"
   ]
  },
  {
   "cell_type": "code",
   "execution_count": 18,
   "metadata": {},
   "outputs": [
    {
     "data": {
      "text/html": [
       "<div>\n",
       "<style scoped>\n",
       "    .dataframe tbody tr th:only-of-type {\n",
       "        vertical-align: middle;\n",
       "    }\n",
       "\n",
       "    .dataframe tbody tr th {\n",
       "        vertical-align: top;\n",
       "    }\n",
       "\n",
       "    .dataframe thead th {\n",
       "        text-align: right;\n",
       "    }\n",
       "</style>\n",
       "<table border=\"1\" class=\"dataframe\">\n",
       "  <thead>\n",
       "    <tr style=\"text-align: right;\">\n",
       "      <th></th>\n",
       "      <th>unique_contact</th>\n",
       "      <th>total_contact</th>\n",
       "    </tr>\n",
       "  </thead>\n",
       "  <tbody>\n",
       "    <tr>\n",
       "      <th>count</th>\n",
       "      <td>15990.000000</td>\n",
       "      <td>15990.000000</td>\n",
       "    </tr>\n",
       "    <tr>\n",
       "      <th>mean</th>\n",
       "      <td>0.074171</td>\n",
       "      <td>0.171545</td>\n",
       "    </tr>\n",
       "    <tr>\n",
       "      <th>std</th>\n",
       "      <td>0.262058</td>\n",
       "      <td>0.850088</td>\n",
       "    </tr>\n",
       "    <tr>\n",
       "      <th>min</th>\n",
       "      <td>0.000000</td>\n",
       "      <td>0.000000</td>\n",
       "    </tr>\n",
       "    <tr>\n",
       "      <th>25%</th>\n",
       "      <td>0.000000</td>\n",
       "      <td>0.000000</td>\n",
       "    </tr>\n",
       "    <tr>\n",
       "      <th>50%</th>\n",
       "      <td>0.000000</td>\n",
       "      <td>0.000000</td>\n",
       "    </tr>\n",
       "    <tr>\n",
       "      <th>75%</th>\n",
       "      <td>0.000000</td>\n",
       "      <td>0.000000</td>\n",
       "    </tr>\n",
       "    <tr>\n",
       "      <th>max</th>\n",
       "      <td>1.000000</td>\n",
       "      <td>23.000000</td>\n",
       "    </tr>\n",
       "  </tbody>\n",
       "</table>\n",
       "</div>"
      ],
      "text/plain": [
       "       unique_contact  total_contact\n",
       "count    15990.000000   15990.000000\n",
       "mean         0.074171       0.171545\n",
       "std          0.262058       0.850088\n",
       "min          0.000000       0.000000\n",
       "25%          0.000000       0.000000\n",
       "50%          0.000000       0.000000\n",
       "75%          0.000000       0.000000\n",
       "max          1.000000      23.000000"
      ]
     },
     "execution_count": 18,
     "metadata": {},
     "output_type": "execute_result"
    }
   ],
   "source": [
    "exp_contact.describe()"
   ]
  },
  {
   "cell_type": "code",
   "execution_count": 19,
   "metadata": {},
   "outputs": [
    {
     "data": {
      "text/html": [
       "<div>\n",
       "<style scoped>\n",
       "    .dataframe tbody tr th:only-of-type {\n",
       "        vertical-align: middle;\n",
       "    }\n",
       "\n",
       "    .dataframe tbody tr th {\n",
       "        vertical-align: top;\n",
       "    }\n",
       "\n",
       "    .dataframe thead th {\n",
       "        text-align: right;\n",
       "    }\n",
       "</style>\n",
       "<table border=\"1\" class=\"dataframe\">\n",
       "  <thead>\n",
       "    <tr style=\"text-align: right;\">\n",
       "      <th></th>\n",
       "      <th>unique_contact</th>\n",
       "      <th>total_contact</th>\n",
       "    </tr>\n",
       "  </thead>\n",
       "  <tbody>\n",
       "    <tr>\n",
       "      <th>count</th>\n",
       "      <td>15994.000000</td>\n",
       "      <td>15994.000000</td>\n",
       "    </tr>\n",
       "    <tr>\n",
       "      <th>mean</th>\n",
       "      <td>0.071777</td>\n",
       "      <td>0.173753</td>\n",
       "    </tr>\n",
       "    <tr>\n",
       "      <th>std</th>\n",
       "      <td>0.258126</td>\n",
       "      <td>0.903045</td>\n",
       "    </tr>\n",
       "    <tr>\n",
       "      <th>min</th>\n",
       "      <td>0.000000</td>\n",
       "      <td>0.000000</td>\n",
       "    </tr>\n",
       "    <tr>\n",
       "      <th>25%</th>\n",
       "      <td>0.000000</td>\n",
       "      <td>0.000000</td>\n",
       "    </tr>\n",
       "    <tr>\n",
       "      <th>50%</th>\n",
       "      <td>0.000000</td>\n",
       "      <td>0.000000</td>\n",
       "    </tr>\n",
       "    <tr>\n",
       "      <th>75%</th>\n",
       "      <td>0.000000</td>\n",
       "      <td>0.000000</td>\n",
       "    </tr>\n",
       "    <tr>\n",
       "      <th>max</th>\n",
       "      <td>1.000000</td>\n",
       "      <td>28.000000</td>\n",
       "    </tr>\n",
       "  </tbody>\n",
       "</table>\n",
       "</div>"
      ],
      "text/plain": [
       "       unique_contact  total_contact\n",
       "count    15994.000000   15994.000000\n",
       "mean         0.071777       0.173753\n",
       "std          0.258126       0.903045\n",
       "min          0.000000       0.000000\n",
       "25%          0.000000       0.000000\n",
       "50%          0.000000       0.000000\n",
       "75%          0.000000       0.000000\n",
       "max          1.000000      28.000000"
      ]
     },
     "execution_count": 19,
     "metadata": {},
     "output_type": "execute_result"
    }
   ],
   "source": [
    "con_contact.describe()"
   ]
  },
  {
   "cell_type": "code",
   "execution_count": 20,
   "metadata": {
    "collapsed": true
   },
   "outputs": [],
   "source": [
    "# Calculation Unique Contact - Chi Square Test\n",
    "# Note: the Numpy array needs to be 2-dimensional! \n",
    "obs = np.array([[exp_contact[exp_contact.unique_contact ==1].user_id.count(),\n",
    "                 exp_contact[exp_contact.unique_contact ==0].user_id.count()],\n",
    "                [con_contact[con_contact.unique_contact ==1].user_id.count(),\n",
    "                 con_contact[con_contact.unique_contact ==0].user_id.count()]])\n",
    "\n",
    "chi2, p, dof, expected = stats.chi2_contingency(obs)"
   ]
  },
  {
   "cell_type": "markdown",
   "metadata": {},
   "source": [
    "#### This p-value indicates whether there's a statistial difference in the proportion of people who contact in each group (experimental versus control).\n",
    "Re-pull the groups if the p < .1"
   ]
  },
  {
   "cell_type": "code",
   "execution_count": 23,
   "metadata": {},
   "outputs": [
    {
     "data": {
      "text/plain": [
       "1.0"
      ]
     },
     "execution_count": 23,
     "metadata": {},
     "output_type": "execute_result"
    }
   ],
   "source": [
    "#P Value for the Chi Square Test\n",
    "p"
   ]
  },
  {
   "cell_type": "code",
   "execution_count": 24,
   "metadata": {
    "collapsed": true
   },
   "outputs": [],
   "source": [
    "#Returns P Value for Total Contact Rate\n",
    "[tstat,pvalue] = stats.ttest_ind(exp_contact.total_contact, con_contact.total_contact)"
   ]
  },
  {
   "cell_type": "markdown",
   "metadata": {},
   "source": [
    "#### This p-value indicates whether there's a statistical difference in the total contact between the groups (experimental versus control)\n",
    "Re-pull the groups if the pvalue <.1"
   ]
  },
  {
   "cell_type": "code",
   "execution_count": 25,
   "metadata": {
    "scrolled": true
   },
   "outputs": [
    {
     "data": {
      "text/plain": [
       "0.82187717804278693"
      ]
     },
     "execution_count": 25,
     "metadata": {},
     "output_type": "execute_result"
    }
   ],
   "source": [
    "pvalue"
   ]
  },
  {
   "cell_type": "markdown",
   "metadata": {},
   "source": [
    "### Step 6: Conduct statistical tests to ensure that experimental and control groups are statistically indistinguishable from each other and from the population (on the metrics we are interested in - other than contact)\n",
    "\n",
    "Here we will conduct independent t-tests for each measure to investigate baseline differences between (1) experimental group and all customers and (2) experimental and control groups. We are looking for high p-values here to indicate no difference. (If the p-values are trending towards significance there is a problem.) \n",
    "\n",
    "**Note that it is important to find statistical similarity (e.g., p > .2) in the variables of interest.** For example, if you are going to be testing for an increase in ADB, then it will be important that the experiment and control group have similar ADB at the beginning of the experiment. If you run the t-test and you find that the groups have different mean ADB, and the p-value is trending towards signfiicance then I would re-pull the groups (e.g., may not be lower than .05 but .1 is still too low; this means that theres only a 10% chance that the mean differences would have been found by chance). Feel free to rerun the notebook until you get similar means and high p-values. "
   ]
  },
  {
   "cell_type": "code",
   "execution_count": 27,
   "metadata": {},
   "outputs": [
    {
     "name": "stdout",
     "output_type": "stream",
     "text": [
      "Comparing experimental to total population\n",
      "-------------------------------------------\n",
      "Average balance: Ttest_indResult(statistic=-0.49535718242675125, pvalue=0.620348771147617)\n",
      "Deposits: Ttest_indResult(statistic=-1.236604533872439, pvalue=0.2162359579300193)\n",
      "Swipe volume: Ttest_indResult(statistic=0.7892349217876605, pvalue=0.4299760175877353)\n",
      "Swipe count: Ttest_indResult(statistic=-0.820325346354133, pvalue=0.41203202220384727)\n",
      "----------------------------------------------------\n",
      "----------------------------------------------------\n",
      "Comparing experimental to control\n",
      "-------------------------------------------\n",
      "Average balance: Ttest_indResult(statistic=-0.02152399522123317, pvalue=0.9828278772172596)\n",
      "Deposits: Ttest_indResult(statistic=-1.1365211601971195, pvalue=0.25575213347159104)\n",
      "Swipe volume: Ttest_indResult(statistic=0.16216591421043977, pvalue=0.8711768393619945)\n",
      "Swipe count: Ttest_indResult(statistic=0.26973792421604015, pvalue=0.7873646654139164)\n"
     ]
    }
   ],
   "source": [
    "print('Comparing experimental to total population')\n",
    "print('-------------------------------------------')\n",
    "print('Average balance:',stats.ttest_ind(experimental_baseline.avg_balance, all_baseline.avg_balance))\n",
    "print('Deposits:',stats.ttest_ind(experimental_baseline.deposits_past90, all_baseline.deposits_past90))\n",
    "print('Swipe volume:',stats.ttest_ind(experimental_baseline.swipe_vol_past90, all_baseline.swipe_vol_past90))\n",
    "print('Swipe count:',stats.ttest_ind(experimental_baseline.swipe_count_past90, all_baseline.swipe_count_past90))\n",
    "print('----------------------------------------------------')\n",
    "print('----------------------------------------------------')\n",
    "print('Comparing experimental to control')\n",
    "print('-------------------------------------------')\n",
    "print('Average balance:',stats.ttest_ind(experimental_baseline.avg_balance, control_baseline.avg_balance))\n",
    "print('Deposits:',stats.ttest_ind(experimental_baseline.deposits_past90, control_baseline.deposits_past90))\n",
    "print('Swipe volume:',stats.ttest_ind(experimental_baseline.swipe_vol_past90, control_baseline.swipe_vol_past90))\n",
    "print('Swipe count:',stats.ttest_ind(experimental_baseline.swipe_count_past90, control_baseline.swipe_count_past90))"
   ]
  },
  {
   "cell_type": "markdown",
   "metadata": {},
   "source": [
    "### STEP 7: Save the experimental and control user_refs as CSV files"
   ]
  },
  {
   "cell_type": "markdown",
   "metadata": {},
   "source": [
    "Save the csv files in the `output` folder (presuming you are currently working in the `src` folder). You can then link to those csv files in the ticket."
   ]
  },
  {
   "cell_type": "code",
   "execution_count": 30,
   "metadata": {
    "collapsed": true
   },
   "outputs": [],
   "source": [
    "experimental_baseline.user_ref.to_csv('../output/experimental_ids.csv', header=True, index=False)\n",
    "control_baseline.user_ref.to_csv('../output/control_ids.csv', header=True, index=False)"
   ]
  }
 ],
 "metadata": {
  "kernelspec": {
   "display_name": "Python 3",
   "language": "python",
   "name": "python3"
  },
  "language_info": {
   "codemirror_mode": {
    "name": "ipython",
    "version": 3
   },
   "file_extension": ".py",
   "mimetype": "text/x-python",
   "name": "python",
   "nbconvert_exporter": "python",
   "pygments_lexer": "ipython3",
   "version": "3.6.5"
  }
 },
 "nbformat": 4,
 "nbformat_minor": 2
}
