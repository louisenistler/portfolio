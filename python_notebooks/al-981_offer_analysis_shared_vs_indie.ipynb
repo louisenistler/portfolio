{
 "cells": [
  {
   "cell_type": "markdown",
   "metadata": {},
   "source": [
    "## Offer Analysis - Individual vs. Shared Type\n",
    "[Analytics ticket here](https://banksimple.atlassian.net/browse/AL-981)"
   ]
  },
  {
   "cell_type": "code",
   "execution_count": 1,
   "metadata": {},
   "outputs": [],
   "source": [
    "import numpy as np\n",
    "import seaborn as sns\n",
    "from scipy import stats\n",
    "from datetime import date\n",
    "from simply import redshift\n",
    "from pandas import DataFrame\n",
    "from matplotlib import pyplot as plt"
   ]
  },
  {
   "cell_type": "markdown",
   "metadata": {},
   "source": [
    "### Population:\n",
    "- Every account paid out for the offer. \n",
    "- Broken between shared vs. indie type\n",
    "- 1 row with balance for each day post hold by deadline"
   ]
  },
  {
   "cell_type": "code",
   "execution_count": 6,
   "metadata": {},
   "outputs": [],
   "source": [
    "account_retention = redshift(\"\"\"\n",
    "with balance_hold_by_deadline as (\n",
    "select\n",
    "    foa.account_ref,\n",
    "    offer_month,\n",
    "    foa.type,\n",
    "    case when offer_month = '2019-07-01' then '2019-10-31'::date else '2019-12-31'::date end as hold_by_date,\n",
    "    ledger_balance_eod as hold_by_balance,\n",
    "    da.close_date\n",
    "from fact_offer_account foa\n",
    "join fact_account_day fad on foa.account_ref = fad.account_ref\n",
    "join dim_account da on fad.account_ref = da.account_ref\n",
    "where offer_month in ('2019-07-01','2019-08-01','2019-09-01')\n",
    "    and fad.date = hold_by_date\n",
    "    and foa.type ilike '%PROTECTED'\n",
    "    and paid_out = true\n",
    "    ),\n",
    "\n",
    "post_hold_deadline as (\n",
    "select\n",
    "    foa.account_ref,\n",
    "    foa.offer_month,\n",
    "    case when foa.offer_month = '2019-07-01' then '2019-10-31'::date else '2019-12-31'::date end as hold_by_date,\n",
    "    hold_by_balance,\n",
    "    foa.type,\n",
    "    date,\n",
    "    datediff(day,hold_by_date,date) as days_since_hold_deadline,\n",
    "    payout_amount,\n",
    "    ledger_balance_eod as ledger_balance_eod,\n",
    "    case when 10000 <= ledger_balance_eod then 1 else 0 end maintained_balance_flag,\n",
    "    (ledger_balance_eod - hold_by_balance) as balance_diff\n",
    "from fact_offer_account foa\n",
    "join balance_hold_by_deadline b on foa.account_ref = b.account_ref\n",
    "join fact_account_day fad on foa.account_ref = fad.account_ref\n",
    "where foa.offer_month in ('2019-07-01','2019-08-01','2019-09-01')\n",
    "    and fad.date >= hold_by_date\n",
    "    and fad.date < current_date\n",
    "    and foa.type ilike '%PROTECTED'\n",
    "    and paid_out = true --only look at folks who were paid out\n",
    "    and days_since_hold_deadline = 60\n",
    "    )\n",
    "\n",
    "select\n",
    "    b.account_ref,\n",
    "    b.hold_by_date,\n",
    "    close_date,\n",
    "    b.offer_month,\n",
    "    b.hold_by_balance,\n",
    "    b.type,\n",
    "    date,\n",
    "    isnull(days_since_hold_deadline,60) as days_since_hold_deadline,\n",
    "    payout_amount,\n",
    "    isnull(ledger_balance_eod,0) as ledger_balance_eod,\n",
    "    isnull(maintained_balance_flag,0) as maintained_balance_flag,\n",
    "    isnull(balance_diff,(b.hold_by_balance*-1)) as balance_diff\n",
    "from balance_hold_by_deadline b\n",
    "left join post_hold_deadline as p on b.account_ref = p.account_ref\n",
    ";\n",
    "\"\"\")"
   ]
  },
  {
   "cell_type": "code",
   "execution_count": 7,
   "metadata": {},
   "outputs": [
    {
     "data": {
      "text/html": [
       "<div>\n",
       "<style scoped>\n",
       "    .dataframe tbody tr th:only-of-type {\n",
       "        vertical-align: middle;\n",
       "    }\n",
       "\n",
       "    .dataframe tbody tr th {\n",
       "        vertical-align: top;\n",
       "    }\n",
       "\n",
       "    .dataframe thead th {\n",
       "        text-align: right;\n",
       "    }\n",
       "</style>\n",
       "<table border=\"1\" class=\"dataframe\">\n",
       "  <thead>\n",
       "    <tr style=\"text-align: right;\">\n",
       "      <th></th>\n",
       "      <th>hold_by_balance</th>\n",
       "      <th>days_since_hold_deadline</th>\n",
       "      <th>payout_amount</th>\n",
       "      <th>ledger_balance_eod</th>\n",
       "      <th>maintained_balance_flag</th>\n",
       "      <th>balance_diff</th>\n",
       "    </tr>\n",
       "  </thead>\n",
       "  <tbody>\n",
       "    <tr>\n",
       "      <th>count</th>\n",
       "      <td>4806.000000</td>\n",
       "      <td>4806.0</td>\n",
       "      <td>4297.000000</td>\n",
       "      <td>4806.000000</td>\n",
       "      <td>4806.000000</td>\n",
       "      <td>4806.000000</td>\n",
       "    </tr>\n",
       "    <tr>\n",
       "      <th>mean</th>\n",
       "      <td>14958.684771</td>\n",
       "      <td>60.0</td>\n",
       "      <td>235.268792</td>\n",
       "      <td>11369.538019</td>\n",
       "      <td>0.516854</td>\n",
       "      <td>-3589.146752</td>\n",
       "    </tr>\n",
       "    <tr>\n",
       "      <th>std</th>\n",
       "      <td>21919.641741</td>\n",
       "      <td>0.0</td>\n",
       "      <td>35.445799</td>\n",
       "      <td>22939.099618</td>\n",
       "      <td>0.499768</td>\n",
       "      <td>17800.305918</td>\n",
       "    </tr>\n",
       "    <tr>\n",
       "      <th>min</th>\n",
       "      <td>0.010000</td>\n",
       "      <td>60.0</td>\n",
       "      <td>150.000000</td>\n",
       "      <td>0.000000</td>\n",
       "      <td>0.000000</td>\n",
       "      <td>-380064.840000</td>\n",
       "    </tr>\n",
       "    <tr>\n",
       "      <th>25%</th>\n",
       "      <td>10037.840000</td>\n",
       "      <td>60.0</td>\n",
       "      <td>250.000000</td>\n",
       "      <td>1.060000</td>\n",
       "      <td>0.000000</td>\n",
       "      <td>-10044.145000</td>\n",
       "    </tr>\n",
       "    <tr>\n",
       "      <th>50%</th>\n",
       "      <td>10057.160000</td>\n",
       "      <td>60.0</td>\n",
       "      <td>250.000000</td>\n",
       "      <td>10232.835000</td>\n",
       "      <td>1.000000</td>\n",
       "      <td>-2809.640000</td>\n",
       "    </tr>\n",
       "    <tr>\n",
       "      <th>75%</th>\n",
       "      <td>10351.760000</td>\n",
       "      <td>60.0</td>\n",
       "      <td>250.000000</td>\n",
       "      <td>10528.055000</td>\n",
       "      <td>1.000000</td>\n",
       "      <td>298.670000</td>\n",
       "    </tr>\n",
       "    <tr>\n",
       "      <th>max</th>\n",
       "      <td>754031.010000</td>\n",
       "      <td>60.0</td>\n",
       "      <td>250.000000</td>\n",
       "      <td>457192.390000</td>\n",
       "      <td>1.000000</td>\n",
       "      <td>303442.560000</td>\n",
       "    </tr>\n",
       "  </tbody>\n",
       "</table>\n",
       "</div>"
      ],
      "text/plain": [
       "       hold_by_balance  days_since_hold_deadline  payout_amount  \\\n",
       "count      4806.000000                    4806.0    4297.000000   \n",
       "mean      14958.684771                      60.0     235.268792   \n",
       "std       21919.641741                       0.0      35.445799   \n",
       "min           0.010000                      60.0     150.000000   \n",
       "25%       10037.840000                      60.0     250.000000   \n",
       "50%       10057.160000                      60.0     250.000000   \n",
       "75%       10351.760000                      60.0     250.000000   \n",
       "max      754031.010000                      60.0     250.000000   \n",
       "\n",
       "       ledger_balance_eod  maintained_balance_flag   balance_diff  \n",
       "count         4806.000000              4806.000000    4806.000000  \n",
       "mean         11369.538019                 0.516854   -3589.146752  \n",
       "std          22939.099618                 0.499768   17800.305918  \n",
       "min              0.000000                 0.000000 -380064.840000  \n",
       "25%              1.060000                 0.000000  -10044.145000  \n",
       "50%          10232.835000                 1.000000   -2809.640000  \n",
       "75%          10528.055000                 1.000000     298.670000  \n",
       "max         457192.390000                 1.000000  303442.560000  "
      ]
     },
     "execution_count": 7,
     "metadata": {},
     "output_type": "execute_result"
    }
   ],
   "source": [
    "account_retention.describe()"
   ]
  },
  {
   "cell_type": "code",
   "execution_count": 8,
   "metadata": {},
   "outputs": [
    {
     "data": {
      "text/html": [
       "<div>\n",
       "<style scoped>\n",
       "    .dataframe tbody tr th:only-of-type {\n",
       "        vertical-align: middle;\n",
       "    }\n",
       "\n",
       "    .dataframe tbody tr th {\n",
       "        vertical-align: top;\n",
       "    }\n",
       "\n",
       "    .dataframe thead th {\n",
       "        text-align: right;\n",
       "    }\n",
       "</style>\n",
       "<table border=\"1\" class=\"dataframe\">\n",
       "  <thead>\n",
       "    <tr style=\"text-align: right;\">\n",
       "      <th></th>\n",
       "      <th>account_ref</th>\n",
       "      <th>hold_by_date</th>\n",
       "      <th>close_date</th>\n",
       "      <th>offer_month</th>\n",
       "      <th>hold_by_balance</th>\n",
       "      <th>type</th>\n",
       "      <th>date</th>\n",
       "      <th>days_since_hold_deadline</th>\n",
       "      <th>payout_amount</th>\n",
       "      <th>ledger_balance_eod</th>\n",
       "      <th>maintained_balance_flag</th>\n",
       "      <th>balance_diff</th>\n",
       "    </tr>\n",
       "  </thead>\n",
       "  <tbody>\n",
       "    <tr>\n",
       "      <th>0</th>\n",
       "      <td>07bd28a7-9c59-3555-a35c-77101796b01a</td>\n",
       "      <td>2019-12-31</td>\n",
       "      <td>None</td>\n",
       "      <td>2019-09-01</td>\n",
       "      <td>11160.05</td>\n",
       "      <td>INDIVIDUAL_PROTECTED</td>\n",
       "      <td>2020-02-29</td>\n",
       "      <td>60</td>\n",
       "      <td>150.0</td>\n",
       "      <td>11436.16</td>\n",
       "      <td>1</td>\n",
       "      <td>276.11</td>\n",
       "    </tr>\n",
       "    <tr>\n",
       "      <th>1</th>\n",
       "      <td>27bd8424-0d11-3b65-a3b1-ac4da7435d6c</td>\n",
       "      <td>2019-12-31</td>\n",
       "      <td>None</td>\n",
       "      <td>2019-08-01</td>\n",
       "      <td>10055.43</td>\n",
       "      <td>SHARED_PROTECTED</td>\n",
       "      <td>2020-02-29</td>\n",
       "      <td>60</td>\n",
       "      <td>250.0</td>\n",
       "      <td>10354.10</td>\n",
       "      <td>1</td>\n",
       "      <td>298.67</td>\n",
       "    </tr>\n",
       "    <tr>\n",
       "      <th>2</th>\n",
       "      <td>2ef76706-cf30-37be-af70-96f850bee901</td>\n",
       "      <td>2019-10-31</td>\n",
       "      <td>None</td>\n",
       "      <td>2019-07-01</td>\n",
       "      <td>10026.99</td>\n",
       "      <td>INDIVIDUAL_PROTECTED</td>\n",
       "      <td>2019-12-30</td>\n",
       "      <td>60</td>\n",
       "      <td>250.0</td>\n",
       "      <td>0.00</td>\n",
       "      <td>0</td>\n",
       "      <td>-10026.99</td>\n",
       "    </tr>\n",
       "    <tr>\n",
       "      <th>3</th>\n",
       "      <td>331f2580-4fdb-37dd-a624-2b1370c28a29</td>\n",
       "      <td>2019-12-31</td>\n",
       "      <td>None</td>\n",
       "      <td>2019-08-01</td>\n",
       "      <td>10656.02</td>\n",
       "      <td>INDIVIDUAL_PROTECTED</td>\n",
       "      <td>2020-02-29</td>\n",
       "      <td>60</td>\n",
       "      <td>250.0</td>\n",
       "      <td>9.13</td>\n",
       "      <td>0</td>\n",
       "      <td>-10646.89</td>\n",
       "    </tr>\n",
       "    <tr>\n",
       "      <th>4</th>\n",
       "      <td>5e1353ea-3603-3eca-a37d-4e914680d2ba</td>\n",
       "      <td>2019-10-31</td>\n",
       "      <td>None</td>\n",
       "      <td>2019-07-01</td>\n",
       "      <td>10533.23</td>\n",
       "      <td>INDIVIDUAL_PROTECTED</td>\n",
       "      <td>2019-12-30</td>\n",
       "      <td>60</td>\n",
       "      <td>250.0</td>\n",
       "      <td>12271.14</td>\n",
       "      <td>1</td>\n",
       "      <td>1737.91</td>\n",
       "    </tr>\n",
       "  </tbody>\n",
       "</table>\n",
       "</div>"
      ],
      "text/plain": [
       "                            account_ref hold_by_date close_date offer_month  \\\n",
       "0  07bd28a7-9c59-3555-a35c-77101796b01a   2019-12-31       None  2019-09-01   \n",
       "1  27bd8424-0d11-3b65-a3b1-ac4da7435d6c   2019-12-31       None  2019-08-01   \n",
       "2  2ef76706-cf30-37be-af70-96f850bee901   2019-10-31       None  2019-07-01   \n",
       "3  331f2580-4fdb-37dd-a624-2b1370c28a29   2019-12-31       None  2019-08-01   \n",
       "4  5e1353ea-3603-3eca-a37d-4e914680d2ba   2019-10-31       None  2019-07-01   \n",
       "\n",
       "   hold_by_balance                  type        date  \\\n",
       "0         11160.05  INDIVIDUAL_PROTECTED  2020-02-29   \n",
       "1         10055.43      SHARED_PROTECTED  2020-02-29   \n",
       "2         10026.99  INDIVIDUAL_PROTECTED  2019-12-30   \n",
       "3         10656.02  INDIVIDUAL_PROTECTED  2020-02-29   \n",
       "4         10533.23  INDIVIDUAL_PROTECTED  2019-12-30   \n",
       "\n",
       "   days_since_hold_deadline  payout_amount  ledger_balance_eod  \\\n",
       "0                        60          150.0            11436.16   \n",
       "1                        60          250.0            10354.10   \n",
       "2                        60          250.0                0.00   \n",
       "3                        60          250.0                9.13   \n",
       "4                        60          250.0            12271.14   \n",
       "\n",
       "   maintained_balance_flag  balance_diff  \n",
       "0                        1        276.11  \n",
       "1                        1        298.67  \n",
       "2                        0     -10026.99  \n",
       "3                        0     -10646.89  \n",
       "4                        1       1737.91  "
      ]
     },
     "execution_count": 8,
     "metadata": {},
     "output_type": "execute_result"
    }
   ],
   "source": [
    "account_retention.head()"
   ]
  },
  {
   "cell_type": "code",
   "execution_count": 9,
   "metadata": {},
   "outputs": [],
   "source": [
    "#Currently it has been 60 days since the hold deadline for August and September. Use day 60 for balance retention\n",
    "\n",
    "retention_day_60 = account_retention[account_retention.days_since_hold_deadline == 60]\n",
    "\n",
    "#yesterday_retention = account_retention[account_retention.date == date(2020, 3, 1)]\n",
    "#type('2020-03-01')\n",
    "#type(account_retention.date[0])\n",
    "#account_level_retention.date\n",
    "#type(account_level_retention.date)"
   ]
  },
  {
   "cell_type": "code",
   "execution_count": 10,
   "metadata": {},
   "outputs": [
    {
     "data": {
      "text/html": [
       "<div>\n",
       "<style scoped>\n",
       "    .dataframe tbody tr th:only-of-type {\n",
       "        vertical-align: middle;\n",
       "    }\n",
       "\n",
       "    .dataframe tbody tr th {\n",
       "        vertical-align: top;\n",
       "    }\n",
       "\n",
       "    .dataframe thead th {\n",
       "        text-align: right;\n",
       "    }\n",
       "</style>\n",
       "<table border=\"1\" class=\"dataframe\">\n",
       "  <thead>\n",
       "    <tr style=\"text-align: right;\">\n",
       "      <th></th>\n",
       "      <th>account_ref</th>\n",
       "      <th>hold_by_date</th>\n",
       "      <th>close_date</th>\n",
       "      <th>offer_month</th>\n",
       "      <th>hold_by_balance</th>\n",
       "      <th>type</th>\n",
       "      <th>date</th>\n",
       "      <th>days_since_hold_deadline</th>\n",
       "      <th>payout_amount</th>\n",
       "      <th>ledger_balance_eod</th>\n",
       "      <th>maintained_balance_flag</th>\n",
       "      <th>balance_diff</th>\n",
       "    </tr>\n",
       "  </thead>\n",
       "  <tbody>\n",
       "    <tr>\n",
       "      <th>0</th>\n",
       "      <td>07bd28a7-9c59-3555-a35c-77101796b01a</td>\n",
       "      <td>2019-12-31</td>\n",
       "      <td>None</td>\n",
       "      <td>2019-09-01</td>\n",
       "      <td>11160.05</td>\n",
       "      <td>INDIVIDUAL_PROTECTED</td>\n",
       "      <td>2020-02-29</td>\n",
       "      <td>60</td>\n",
       "      <td>150.0</td>\n",
       "      <td>11436.16</td>\n",
       "      <td>1</td>\n",
       "      <td>276.11</td>\n",
       "    </tr>\n",
       "    <tr>\n",
       "      <th>1</th>\n",
       "      <td>27bd8424-0d11-3b65-a3b1-ac4da7435d6c</td>\n",
       "      <td>2019-12-31</td>\n",
       "      <td>None</td>\n",
       "      <td>2019-08-01</td>\n",
       "      <td>10055.43</td>\n",
       "      <td>SHARED_PROTECTED</td>\n",
       "      <td>2020-02-29</td>\n",
       "      <td>60</td>\n",
       "      <td>250.0</td>\n",
       "      <td>10354.10</td>\n",
       "      <td>1</td>\n",
       "      <td>298.67</td>\n",
       "    </tr>\n",
       "    <tr>\n",
       "      <th>2</th>\n",
       "      <td>2ef76706-cf30-37be-af70-96f850bee901</td>\n",
       "      <td>2019-10-31</td>\n",
       "      <td>None</td>\n",
       "      <td>2019-07-01</td>\n",
       "      <td>10026.99</td>\n",
       "      <td>INDIVIDUAL_PROTECTED</td>\n",
       "      <td>2019-12-30</td>\n",
       "      <td>60</td>\n",
       "      <td>250.0</td>\n",
       "      <td>0.00</td>\n",
       "      <td>0</td>\n",
       "      <td>-10026.99</td>\n",
       "    </tr>\n",
       "    <tr>\n",
       "      <th>3</th>\n",
       "      <td>331f2580-4fdb-37dd-a624-2b1370c28a29</td>\n",
       "      <td>2019-12-31</td>\n",
       "      <td>None</td>\n",
       "      <td>2019-08-01</td>\n",
       "      <td>10656.02</td>\n",
       "      <td>INDIVIDUAL_PROTECTED</td>\n",
       "      <td>2020-02-29</td>\n",
       "      <td>60</td>\n",
       "      <td>250.0</td>\n",
       "      <td>9.13</td>\n",
       "      <td>0</td>\n",
       "      <td>-10646.89</td>\n",
       "    </tr>\n",
       "    <tr>\n",
       "      <th>4</th>\n",
       "      <td>5e1353ea-3603-3eca-a37d-4e914680d2ba</td>\n",
       "      <td>2019-10-31</td>\n",
       "      <td>None</td>\n",
       "      <td>2019-07-01</td>\n",
       "      <td>10533.23</td>\n",
       "      <td>INDIVIDUAL_PROTECTED</td>\n",
       "      <td>2019-12-30</td>\n",
       "      <td>60</td>\n",
       "      <td>250.0</td>\n",
       "      <td>12271.14</td>\n",
       "      <td>1</td>\n",
       "      <td>1737.91</td>\n",
       "    </tr>\n",
       "  </tbody>\n",
       "</table>\n",
       "</div>"
      ],
      "text/plain": [
       "                            account_ref hold_by_date close_date offer_month  \\\n",
       "0  07bd28a7-9c59-3555-a35c-77101796b01a   2019-12-31       None  2019-09-01   \n",
       "1  27bd8424-0d11-3b65-a3b1-ac4da7435d6c   2019-12-31       None  2019-08-01   \n",
       "2  2ef76706-cf30-37be-af70-96f850bee901   2019-10-31       None  2019-07-01   \n",
       "3  331f2580-4fdb-37dd-a624-2b1370c28a29   2019-12-31       None  2019-08-01   \n",
       "4  5e1353ea-3603-3eca-a37d-4e914680d2ba   2019-10-31       None  2019-07-01   \n",
       "\n",
       "   hold_by_balance                  type        date  \\\n",
       "0         11160.05  INDIVIDUAL_PROTECTED  2020-02-29   \n",
       "1         10055.43      SHARED_PROTECTED  2020-02-29   \n",
       "2         10026.99  INDIVIDUAL_PROTECTED  2019-12-30   \n",
       "3         10656.02  INDIVIDUAL_PROTECTED  2020-02-29   \n",
       "4         10533.23  INDIVIDUAL_PROTECTED  2019-12-30   \n",
       "\n",
       "   days_since_hold_deadline  payout_amount  ledger_balance_eod  \\\n",
       "0                        60          150.0            11436.16   \n",
       "1                        60          250.0            10354.10   \n",
       "2                        60          250.0                0.00   \n",
       "3                        60          250.0                9.13   \n",
       "4                        60          250.0            12271.14   \n",
       "\n",
       "   maintained_balance_flag  balance_diff  \n",
       "0                        1        276.11  \n",
       "1                        1        298.67  \n",
       "2                        0     -10026.99  \n",
       "3                        0     -10646.89  \n",
       "4                        1       1737.91  "
      ]
     },
     "execution_count": 10,
     "metadata": {},
     "output_type": "execute_result"
    }
   ],
   "source": [
    "retention_day_60.head()"
   ]
  },
  {
   "cell_type": "code",
   "execution_count": 11,
   "metadata": {},
   "outputs": [
    {
     "data": {
      "text/html": [
       "<div>\n",
       "<style scoped>\n",
       "    .dataframe tbody tr th:only-of-type {\n",
       "        vertical-align: middle;\n",
       "    }\n",
       "\n",
       "    .dataframe tbody tr th {\n",
       "        vertical-align: top;\n",
       "    }\n",
       "\n",
       "    .dataframe thead th {\n",
       "        text-align: right;\n",
       "    }\n",
       "</style>\n",
       "<table border=\"1\" class=\"dataframe\">\n",
       "  <thead>\n",
       "    <tr style=\"text-align: right;\">\n",
       "      <th></th>\n",
       "      <th>type</th>\n",
       "      <th>hold_by_balance</th>\n",
       "      <th>days_since_hold_deadline</th>\n",
       "      <th>payout_amount</th>\n",
       "      <th>ledger_balance_eod</th>\n",
       "      <th>maintained_balance_flag</th>\n",
       "      <th>balance_diff</th>\n",
       "    </tr>\n",
       "  </thead>\n",
       "  <tbody>\n",
       "    <tr>\n",
       "      <th>0</th>\n",
       "      <td>INDIVIDUAL_PROTECTED</td>\n",
       "      <td>14481.001755</td>\n",
       "      <td>60.0</td>\n",
       "      <td>235.202312</td>\n",
       "      <td>11038.939836</td>\n",
       "      <td>0.520509</td>\n",
       "      <td>-3442.061918</td>\n",
       "    </tr>\n",
       "    <tr>\n",
       "      <th>1</th>\n",
       "      <td>SHARED_PROTECTED</td>\n",
       "      <td>16905.150598</td>\n",
       "      <td>60.0</td>\n",
       "      <td>235.526316</td>\n",
       "      <td>12715.626390</td>\n",
       "      <td>0.502623</td>\n",
       "      <td>-4189.524208</td>\n",
       "    </tr>\n",
       "  </tbody>\n",
       "</table>\n",
       "</div>"
      ],
      "text/plain": [
       "                   type  hold_by_balance  days_since_hold_deadline  \\\n",
       "0  INDIVIDUAL_PROTECTED     14481.001755                      60.0   \n",
       "1      SHARED_PROTECTED     16905.150598                      60.0   \n",
       "\n",
       "   payout_amount  ledger_balance_eod  maintained_balance_flag  balance_diff  \n",
       "0     235.202312        11038.939836                 0.520509  -3442.061918  \n",
       "1     235.526316        12715.626390                 0.502623  -4189.524208  "
      ]
     },
     "execution_count": 11,
     "metadata": {},
     "output_type": "execute_result"
    }
   ],
   "source": [
    "retention_day_60.groupby(['type']).mean().reset_index()\n",
    "#Rate at which accounts still have a balance of $10,000 on day 60 by type"
   ]
  },
  {
   "cell_type": "code",
   "execution_count": 12,
   "metadata": {},
   "outputs": [
    {
     "data": {
      "text/html": [
       "<div>\n",
       "<style scoped>\n",
       "    .dataframe tbody tr th:only-of-type {\n",
       "        vertical-align: middle;\n",
       "    }\n",
       "\n",
       "    .dataframe tbody tr th {\n",
       "        vertical-align: top;\n",
       "    }\n",
       "\n",
       "    .dataframe thead th {\n",
       "        text-align: right;\n",
       "    }\n",
       "</style>\n",
       "<table border=\"1\" class=\"dataframe\">\n",
       "  <thead>\n",
       "    <tr style=\"text-align: right;\">\n",
       "      <th></th>\n",
       "      <th>type</th>\n",
       "      <th>offer_month</th>\n",
       "      <th>account_ref</th>\n",
       "      <th>balance_diff</th>\n",
       "    </tr>\n",
       "  </thead>\n",
       "  <tbody>\n",
       "    <tr>\n",
       "      <th>0</th>\n",
       "      <td>INDIVIDUAL_PROTECTED</td>\n",
       "      <td>2019-07-01</td>\n",
       "      <td>1627</td>\n",
       "      <td>1627</td>\n",
       "    </tr>\n",
       "    <tr>\n",
       "      <th>1</th>\n",
       "      <td>INDIVIDUAL_PROTECTED</td>\n",
       "      <td>2019-08-01</td>\n",
       "      <td>1670</td>\n",
       "      <td>1670</td>\n",
       "    </tr>\n",
       "    <tr>\n",
       "      <th>2</th>\n",
       "      <td>INDIVIDUAL_PROTECTED</td>\n",
       "      <td>2019-09-01</td>\n",
       "      <td>555</td>\n",
       "      <td>555</td>\n",
       "    </tr>\n",
       "    <tr>\n",
       "      <th>3</th>\n",
       "      <td>SHARED_PROTECTED</td>\n",
       "      <td>2019-07-01</td>\n",
       "      <td>369</td>\n",
       "      <td>369</td>\n",
       "    </tr>\n",
       "    <tr>\n",
       "      <th>4</th>\n",
       "      <td>SHARED_PROTECTED</td>\n",
       "      <td>2019-08-01</td>\n",
       "      <td>451</td>\n",
       "      <td>451</td>\n",
       "    </tr>\n",
       "    <tr>\n",
       "      <th>5</th>\n",
       "      <td>SHARED_PROTECTED</td>\n",
       "      <td>2019-09-01</td>\n",
       "      <td>133</td>\n",
       "      <td>133</td>\n",
       "    </tr>\n",
       "  </tbody>\n",
       "</table>\n",
       "</div>"
      ],
      "text/plain": [
       "                   type offer_month  account_ref  balance_diff\n",
       "0  INDIVIDUAL_PROTECTED  2019-07-01         1627          1627\n",
       "1  INDIVIDUAL_PROTECTED  2019-08-01         1670          1670\n",
       "2  INDIVIDUAL_PROTECTED  2019-09-01          555           555\n",
       "3      SHARED_PROTECTED  2019-07-01          369           369\n",
       "4      SHARED_PROTECTED  2019-08-01          451           451\n",
       "5      SHARED_PROTECTED  2019-09-01          133           133"
      ]
     },
     "execution_count": 12,
     "metadata": {},
     "output_type": "execute_result"
    }
   ],
   "source": [
    "account_counts_day_60 = retention_day_60[['type','offer_month','account_ref','balance_diff']].groupby(['type','offer_month']).count().reset_index()\n",
    "account_counts_day_60"
   ]
  },
  {
   "cell_type": "code",
   "execution_count": 13,
   "metadata": {},
   "outputs": [],
   "source": [
    "account_maintain_balance_day_60 = retention_day_60[['type','offer_month','maintained_balance_flag','balance_diff']].groupby(['type','offer_month']).mean().reset_index()\n",
    "#Rate at which accounts still have a balance of $10,000 on day 60 by type and offer month"
   ]
  },
  {
   "cell_type": "code",
   "execution_count": 14,
   "metadata": {},
   "outputs": [
    {
     "data": {
      "text/html": [
       "<div>\n",
       "<style scoped>\n",
       "    .dataframe tbody tr th:only-of-type {\n",
       "        vertical-align: middle;\n",
       "    }\n",
       "\n",
       "    .dataframe tbody tr th {\n",
       "        vertical-align: top;\n",
       "    }\n",
       "\n",
       "    .dataframe thead th {\n",
       "        text-align: right;\n",
       "    }\n",
       "</style>\n",
       "<table border=\"1\" class=\"dataframe\">\n",
       "  <thead>\n",
       "    <tr style=\"text-align: right;\">\n",
       "      <th></th>\n",
       "      <th>type</th>\n",
       "      <th>offer_month</th>\n",
       "      <th>maintained_balance_flag</th>\n",
       "      <th>balance_diff</th>\n",
       "      <th>account_ref</th>\n",
       "    </tr>\n",
       "  </thead>\n",
       "  <tbody>\n",
       "    <tr>\n",
       "      <th>0</th>\n",
       "      <td>INDIVIDUAL_PROTECTED</td>\n",
       "      <td>2019-07-01</td>\n",
       "      <td>0.529195</td>\n",
       "      <td>-1345.455181</td>\n",
       "      <td>1627</td>\n",
       "    </tr>\n",
       "    <tr>\n",
       "      <th>1</th>\n",
       "      <td>INDIVIDUAL_PROTECTED</td>\n",
       "      <td>2019-08-01</td>\n",
       "      <td>0.493413</td>\n",
       "      <td>-5348.672317</td>\n",
       "      <td>1670</td>\n",
       "    </tr>\n",
       "    <tr>\n",
       "      <th>2</th>\n",
       "      <td>INDIVIDUAL_PROTECTED</td>\n",
       "      <td>2019-09-01</td>\n",
       "      <td>0.576577</td>\n",
       "      <td>-3851.322811</td>\n",
       "      <td>555</td>\n",
       "    </tr>\n",
       "    <tr>\n",
       "      <th>3</th>\n",
       "      <td>SHARED_PROTECTED</td>\n",
       "      <td>2019-07-01</td>\n",
       "      <td>0.498645</td>\n",
       "      <td>-2352.408184</td>\n",
       "      <td>369</td>\n",
       "    </tr>\n",
       "    <tr>\n",
       "      <th>4</th>\n",
       "      <td>SHARED_PROTECTED</td>\n",
       "      <td>2019-08-01</td>\n",
       "      <td>0.465632</td>\n",
       "      <td>-5883.841907</td>\n",
       "      <td>451</td>\n",
       "    </tr>\n",
       "    <tr>\n",
       "      <th>5</th>\n",
       "      <td>SHARED_PROTECTED</td>\n",
       "      <td>2019-09-01</td>\n",
       "      <td>0.639098</td>\n",
       "      <td>-3541.092105</td>\n",
       "      <td>133</td>\n",
       "    </tr>\n",
       "  </tbody>\n",
       "</table>\n",
       "</div>"
      ],
      "text/plain": [
       "                   type offer_month  maintained_balance_flag  balance_diff  \\\n",
       "0  INDIVIDUAL_PROTECTED  2019-07-01                 0.529195  -1345.455181   \n",
       "1  INDIVIDUAL_PROTECTED  2019-08-01                 0.493413  -5348.672317   \n",
       "2  INDIVIDUAL_PROTECTED  2019-09-01                 0.576577  -3851.322811   \n",
       "3      SHARED_PROTECTED  2019-07-01                 0.498645  -2352.408184   \n",
       "4      SHARED_PROTECTED  2019-08-01                 0.465632  -5883.841907   \n",
       "5      SHARED_PROTECTED  2019-09-01                 0.639098  -3541.092105   \n",
       "\n",
       "   account_ref  \n",
       "0         1627  \n",
       "1         1670  \n",
       "2          555  \n",
       "3          369  \n",
       "4          451  \n",
       "5          133  "
      ]
     },
     "execution_count": 14,
     "metadata": {},
     "output_type": "execute_result"
    }
   ],
   "source": [
    "maintain_balance_rate = account_maintain_balance_day_60.join(account_counts_day_60[['account_ref']], lsuffix='_caller', rsuffix='_other')\n",
    "maintain_balance_rate\n",
    "#Note the reason we need to call the 'account_ref' is because that is the only column we need to pull in to join. Otherwise we end up with repeat columns"
   ]
  },
  {
   "cell_type": "code",
   "execution_count": 15,
   "metadata": {},
   "outputs": [
    {
     "data": {
      "image/png": "[encoded data removed]",
      "text/plain": [
       "<Figure size 1152x576 with 1 Axes>"
      ]
     },
     "metadata": {
      "needs_background": "light"
     },
     "output_type": "display_data"
    }
   ],
   "source": [
    "fig, ax = plt.subplots(figsize=(16,8))\n",
    "\n",
    "indie = maintain_balance_rate[maintain_balance_rate.type == 'INDIVIDUAL_PROTECTED']\n",
    "shared = maintain_balance_rate[maintain_balance_rate.type == 'SHARED_PROTECTED']\n",
    "\n",
    "month1 = indie.index\n",
    "month2 = shared.index\n",
    "\n",
    "labels = ['July 2019','August 2019','September 2019']\n",
    "\n",
    "width = 0.30\n",
    "ax.set_xticks(indie.index)\n",
    "ax.set_xticklabels(labels)\n",
    "\n",
    "p1 = plt.bar(month1-width/2, indie.maintained_balance_flag, width, color = '#24D3C1')\n",
    "p2 = plt.bar(month2-(3-width/2), shared.maintained_balance_flag, width, color = '#706AFE')\n",
    "#p2 = plt.bar(month2-2.85, shared.maintained_balance_flag, width, color = '#706AFE')\n",
    "\n",
    "plt.xlim(-0.5,2.5)\n",
    "plt.ylim(0,1)\n",
    "plt.xlabel('Month', fontsize = 12)\n",
    "plt.xticks(fontsize = 12)\n",
    "plt.ylabel('Percent of accounts with balance day 60 >= 10,000', fontsize = 12)\n",
    "plt.yticks(fontsize = 12)\n",
    "plt.title('Offer Accounts Balance >= $10,000', fontsize = 16)\n",
    "plt.legend(['Individual Protected','Shared Protected'], fontsize=10)\n",
    "plt.grid(False)\n",
    "\n",
    "def autolabel(rects):\n",
    "    for rect in rects:\n",
    "        height = rect.get_height()\n",
    "        ax.annotate('{}'.format(round(height,3)),\n",
    "                    xy=(rect.get_x() + rect.get_width() / 2, height),\n",
    "                    textcoords=\"offset points\",\n",
    "                    xytext=(0,5),\n",
    "                    ha='center', va='bottom')\n",
    "\n",
    "autolabel(p1)\n",
    "autolabel(p2)\n",
    "\n",
    "#plt.axvline(p1_x_value)\n",
    "\n",
    "plt.show()"
   ]
  },
  {
   "cell_type": "code",
   "execution_count": 16,
   "metadata": {},
   "outputs": [],
   "source": [
    "p1_x_value = p1[0].get_x()"
   ]
  },
  {
   "cell_type": "code",
   "execution_count": 17,
   "metadata": {},
   "outputs": [
    {
     "name": "stdout",
     "output_type": "stream",
     "text": [
      "Rectangle(xy=(-0.3, 0), width=0.3, height=0.529195, angle=0)\n",
      "Rectangle(xy=(0.7, 0), width=0.3, height=0.493413, angle=0)\n",
      "Rectangle(xy=(1.7, 0), width=0.3, height=0.576577, angle=0)\n"
     ]
    }
   ],
   "source": [
    "for b in p1:\n",
    "    print(b)"
   ]
  },
  {
   "cell_type": "code",
   "execution_count": 18,
   "metadata": {},
   "outputs": [],
   "source": [
    "s = 'one two three {}'"
   ]
  },
  {
   "cell_type": "code",
   "execution_count": 19,
   "metadata": {},
   "outputs": [
    {
     "data": {
      "text/plain": [
       "'one two three four'"
      ]
     },
     "execution_count": 19,
     "metadata": {},
     "output_type": "execute_result"
    }
   ],
   "source": [
    "'one two three {}'.format('four')"
   ]
  },
  {
   "cell_type": "code",
   "execution_count": 20,
   "metadata": {},
   "outputs": [
    {
     "data": {
      "text/plain": [
       "'one two three four'"
      ]
     },
     "execution_count": 20,
     "metadata": {},
     "output_type": "execute_result"
    }
   ],
   "source": [
    "s.format('four')"
   ]
  },
  {
   "cell_type": "code",
   "execution_count": 21,
   "metadata": {},
   "outputs": [
    {
     "data": {
      "text/plain": [
       "'0.529'"
      ]
     },
     "execution_count": 21,
     "metadata": {},
     "output_type": "execute_result"
    }
   ],
   "source": [
    "str(round(p1[0].get_height(),3))"
   ]
  },
  {
   "cell_type": "code",
   "execution_count": 22,
   "metadata": {},
   "outputs": [
    {
     "data": {
      "text/plain": [
       "'0.5291948371235402'"
      ]
     },
     "execution_count": 22,
     "metadata": {},
     "output_type": "execute_result"
    }
   ],
   "source": [
    "'{}'.format(p1[0].get_height())"
   ]
  },
  {
   "cell_type": "markdown",
   "metadata": {},
   "source": [
    "#### Ignore the next 6 lines as they were just for practice\n",
    "-----------"
   ]
  },
  {
   "cell_type": "code",
   "execution_count": null,
   "metadata": {},
   "outputs": [],
   "source": []
  },
  {
   "cell_type": "code",
   "execution_count": 23,
   "metadata": {},
   "outputs": [],
   "source": [
    "#account_maintain_balance.join(account_counts.set_index(['type','offer_month']), on=['type','offer_month'], lsuffix='_caller', rsuffix='_other')\n"
   ]
  },
  {
   "cell_type": "code",
   "execution_count": 24,
   "metadata": {},
   "outputs": [],
   "source": [
    "#help(account_maintain_balance.join)"
   ]
  },
  {
   "cell_type": "code",
   "execution_count": 25,
   "metadata": {},
   "outputs": [],
   "source": [
    "a = 'string'"
   ]
  },
  {
   "cell_type": "code",
   "execution_count": 26,
   "metadata": {},
   "outputs": [
    {
     "data": {
      "text/plain": [
       "<function str.split(sep=None, maxsplit=-1)>"
      ]
     },
     "execution_count": 26,
     "metadata": {},
     "output_type": "execute_result"
    }
   ],
   "source": [
    "a.split"
   ]
  },
  {
   "cell_type": "code",
   "execution_count": 27,
   "metadata": {},
   "outputs": [
    {
     "data": {
      "text/plain": [
       "['string']"
      ]
     },
     "execution_count": 27,
     "metadata": {},
     "output_type": "execute_result"
    }
   ],
   "source": [
    "a.split()"
   ]
  },
  {
   "cell_type": "code",
   "execution_count": 28,
   "metadata": {},
   "outputs": [],
   "source": [
    "#help(a.split())"
   ]
  },
  {
   "cell_type": "markdown",
   "metadata": {},
   "source": [
    "------\n",
    "#### Resume Analysis"
   ]
  },
  {
   "cell_type": "code",
   "execution_count": 29,
   "metadata": {},
   "outputs": [
    {
     "data": {
      "text/html": [
       "<div>\n",
       "<style scoped>\n",
       "    .dataframe tbody tr th:only-of-type {\n",
       "        vertical-align: middle;\n",
       "    }\n",
       "\n",
       "    .dataframe tbody tr th {\n",
       "        vertical-align: top;\n",
       "    }\n",
       "\n",
       "    .dataframe thead th {\n",
       "        text-align: right;\n",
       "    }\n",
       "</style>\n",
       "<table border=\"1\" class=\"dataframe\">\n",
       "  <thead>\n",
       "    <tr style=\"text-align: right;\">\n",
       "      <th></th>\n",
       "      <th>index</th>\n",
       "      <th>account_ref</th>\n",
       "      <th>hold_by_date</th>\n",
       "      <th>close_date</th>\n",
       "      <th>offer_month</th>\n",
       "      <th>hold_by_balance</th>\n",
       "      <th>type</th>\n",
       "      <th>date</th>\n",
       "      <th>days_since_hold_deadline</th>\n",
       "      <th>payout_amount</th>\n",
       "      <th>ledger_balance_eod</th>\n",
       "      <th>maintained_balance_flag</th>\n",
       "      <th>balance_diff</th>\n",
       "    </tr>\n",
       "  </thead>\n",
       "  <tbody>\n",
       "    <tr>\n",
       "      <th>0</th>\n",
       "      <td>0</td>\n",
       "      <td>07bd28a7-9c59-3555-a35c-77101796b01a</td>\n",
       "      <td>2019-12-31</td>\n",
       "      <td>None</td>\n",
       "      <td>2019-09-01</td>\n",
       "      <td>11160.05</td>\n",
       "      <td>INDIVIDUAL_PROTECTED</td>\n",
       "      <td>2020-02-29</td>\n",
       "      <td>60</td>\n",
       "      <td>150.0</td>\n",
       "      <td>11436.16</td>\n",
       "      <td>1</td>\n",
       "      <td>276.11</td>\n",
       "    </tr>\n",
       "    <tr>\n",
       "      <th>1</th>\n",
       "      <td>1</td>\n",
       "      <td>27bd8424-0d11-3b65-a3b1-ac4da7435d6c</td>\n",
       "      <td>2019-12-31</td>\n",
       "      <td>None</td>\n",
       "      <td>2019-08-01</td>\n",
       "      <td>10055.43</td>\n",
       "      <td>SHARED_PROTECTED</td>\n",
       "      <td>2020-02-29</td>\n",
       "      <td>60</td>\n",
       "      <td>250.0</td>\n",
       "      <td>10354.10</td>\n",
       "      <td>1</td>\n",
       "      <td>298.67</td>\n",
       "    </tr>\n",
       "    <tr>\n",
       "      <th>2</th>\n",
       "      <td>2</td>\n",
       "      <td>2ef76706-cf30-37be-af70-96f850bee901</td>\n",
       "      <td>2019-10-31</td>\n",
       "      <td>None</td>\n",
       "      <td>2019-07-01</td>\n",
       "      <td>10026.99</td>\n",
       "      <td>INDIVIDUAL_PROTECTED</td>\n",
       "      <td>2019-12-30</td>\n",
       "      <td>60</td>\n",
       "      <td>250.0</td>\n",
       "      <td>0.00</td>\n",
       "      <td>0</td>\n",
       "      <td>-10026.99</td>\n",
       "    </tr>\n",
       "    <tr>\n",
       "      <th>3</th>\n",
       "      <td>3</td>\n",
       "      <td>331f2580-4fdb-37dd-a624-2b1370c28a29</td>\n",
       "      <td>2019-12-31</td>\n",
       "      <td>None</td>\n",
       "      <td>2019-08-01</td>\n",
       "      <td>10656.02</td>\n",
       "      <td>INDIVIDUAL_PROTECTED</td>\n",
       "      <td>2020-02-29</td>\n",
       "      <td>60</td>\n",
       "      <td>250.0</td>\n",
       "      <td>9.13</td>\n",
       "      <td>0</td>\n",
       "      <td>-10646.89</td>\n",
       "    </tr>\n",
       "    <tr>\n",
       "      <th>4</th>\n",
       "      <td>4</td>\n",
       "      <td>5e1353ea-3603-3eca-a37d-4e914680d2ba</td>\n",
       "      <td>2019-10-31</td>\n",
       "      <td>None</td>\n",
       "      <td>2019-07-01</td>\n",
       "      <td>10533.23</td>\n",
       "      <td>INDIVIDUAL_PROTECTED</td>\n",
       "      <td>2019-12-30</td>\n",
       "      <td>60</td>\n",
       "      <td>250.0</td>\n",
       "      <td>12271.14</td>\n",
       "      <td>1</td>\n",
       "      <td>1737.91</td>\n",
       "    </tr>\n",
       "  </tbody>\n",
       "</table>\n",
       "</div>"
      ],
      "text/plain": [
       "   index                           account_ref hold_by_date close_date  \\\n",
       "0      0  07bd28a7-9c59-3555-a35c-77101796b01a   2019-12-31       None   \n",
       "1      1  27bd8424-0d11-3b65-a3b1-ac4da7435d6c   2019-12-31       None   \n",
       "2      2  2ef76706-cf30-37be-af70-96f850bee901   2019-10-31       None   \n",
       "3      3  331f2580-4fdb-37dd-a624-2b1370c28a29   2019-12-31       None   \n",
       "4      4  5e1353ea-3603-3eca-a37d-4e914680d2ba   2019-10-31       None   \n",
       "\n",
       "  offer_month  hold_by_balance                  type        date  \\\n",
       "0  2019-09-01         11160.05  INDIVIDUAL_PROTECTED  2020-02-29   \n",
       "1  2019-08-01         10055.43      SHARED_PROTECTED  2020-02-29   \n",
       "2  2019-07-01         10026.99  INDIVIDUAL_PROTECTED  2019-12-30   \n",
       "3  2019-08-01         10656.02  INDIVIDUAL_PROTECTED  2020-02-29   \n",
       "4  2019-07-01         10533.23  INDIVIDUAL_PROTECTED  2019-12-30   \n",
       "\n",
       "   days_since_hold_deadline  payout_amount  ledger_balance_eod  \\\n",
       "0                        60          150.0            11436.16   \n",
       "1                        60          250.0            10354.10   \n",
       "2                        60          250.0                0.00   \n",
       "3                        60          250.0                9.13   \n",
       "4                        60          250.0            12271.14   \n",
       "\n",
       "   maintained_balance_flag  balance_diff  \n",
       "0                        1        276.11  \n",
       "1                        1        298.67  \n",
       "2                        0     -10026.99  \n",
       "3                        0     -10646.89  \n",
       "4                        1       1737.91  "
      ]
     },
     "execution_count": 29,
     "metadata": {},
     "output_type": "execute_result"
    }
   ],
   "source": [
    "retention_day_60.reset_index().head()"
   ]
  },
  {
   "cell_type": "markdown",
   "metadata": {},
   "source": [
    "### Chi Square Test\n",
    "Measure the difference between individual vs. shared accounts to determine if their balance is still >= $10,000"
   ]
  },
  {
   "cell_type": "code",
   "execution_count": 30,
   "metadata": {},
   "outputs": [
    {
     "name": "stdout",
     "output_type": "stream",
     "text": [
      "0.340543077285659\n"
     ]
    }
   ],
   "source": [
    "individual_retention_day_60 = retention_day_60[retention_day_60.type =='INDIVIDUAL_PROTECTED']\n",
    "shared_retention_day_60 = retention_day_60[retention_day_60.type =='SHARED_PROTECTED']\n",
    "\n",
    "obs = np.array([[individual_retention_day_60[individual_retention_day_60.maintained_balance_flag == 1].account_ref.count(),individual_retention_day_60[individual_retention_day_60.maintained_balance_flag == 0].account_ref.count()],\n",
    "               [shared_retention_day_60[shared_retention_day_60.maintained_balance_flag == 1].account_ref.count(),shared_retention_day_60[shared_retention_day_60.maintained_balance_flag == 0].account_ref.count()]])\n",
    "chi2, p, dof, expected = stats.chi2_contingency(obs)\n",
    "\n",
    "print(p)\n",
    "\n",
    "# obs = np.array([\n",
    "#                 [10, 10, 20], \n",
    "#                 [20, 20, 20]\n",
    "#                 ])\n",
    "#chi2_contingency(obs)"
   ]
  },
  {
   "cell_type": "code",
   "execution_count": 31,
   "metadata": {},
   "outputs": [],
   "source": [
    "#help(np.array)"
   ]
  },
  {
   "cell_type": "markdown",
   "metadata": {},
   "source": [
    "### Understand difference between balance between hold deadline to day 60\n",
    "Get the difference between day 0 and day 60 of balances. Then run a t-test on that difference"
   ]
  },
  {
   "cell_type": "code",
   "execution_count": 32,
   "metadata": {},
   "outputs": [
    {
     "data": {
      "text/html": [
       "<div>\n",
       "<style scoped>\n",
       "    .dataframe tbody tr th:only-of-type {\n",
       "        vertical-align: middle;\n",
       "    }\n",
       "\n",
       "    .dataframe tbody tr th {\n",
       "        vertical-align: top;\n",
       "    }\n",
       "\n",
       "    .dataframe thead th {\n",
       "        text-align: right;\n",
       "    }\n",
       "</style>\n",
       "<table border=\"1\" class=\"dataframe\">\n",
       "  <thead>\n",
       "    <tr style=\"text-align: right;\">\n",
       "      <th></th>\n",
       "      <th>hold_by_balance</th>\n",
       "      <th>days_since_hold_deadline</th>\n",
       "      <th>payout_amount</th>\n",
       "      <th>ledger_balance_eod</th>\n",
       "      <th>maintained_balance_flag</th>\n",
       "      <th>balance_diff</th>\n",
       "    </tr>\n",
       "  </thead>\n",
       "  <tbody>\n",
       "    <tr>\n",
       "      <th>count</th>\n",
       "      <td>3852.000000</td>\n",
       "      <td>3852.0</td>\n",
       "      <td>3460.000000</td>\n",
       "      <td>3852.000000</td>\n",
       "      <td>3852.000000</td>\n",
       "      <td>3852.000000</td>\n",
       "    </tr>\n",
       "    <tr>\n",
       "      <th>mean</th>\n",
       "      <td>14481.001755</td>\n",
       "      <td>60.0</td>\n",
       "      <td>235.202312</td>\n",
       "      <td>11038.939836</td>\n",
       "      <td>0.520509</td>\n",
       "      <td>-3442.061918</td>\n",
       "    </tr>\n",
       "    <tr>\n",
       "      <th>std</th>\n",
       "      <td>20856.233225</td>\n",
       "      <td>0.0</td>\n",
       "      <td>35.512839</td>\n",
       "      <td>22090.810744</td>\n",
       "      <td>0.499644</td>\n",
       "      <td>17490.512024</td>\n",
       "    </tr>\n",
       "    <tr>\n",
       "      <th>min</th>\n",
       "      <td>0.740000</td>\n",
       "      <td>60.0</td>\n",
       "      <td>150.000000</td>\n",
       "      <td>0.000000</td>\n",
       "      <td>0.000000</td>\n",
       "      <td>-380064.840000</td>\n",
       "    </tr>\n",
       "    <tr>\n",
       "      <th>25%</th>\n",
       "      <td>10037.847500</td>\n",
       "      <td>60.0</td>\n",
       "      <td>250.000000</td>\n",
       "      <td>1.590000</td>\n",
       "      <td>0.000000</td>\n",
       "      <td>-10044.037500</td>\n",
       "    </tr>\n",
       "    <tr>\n",
       "      <th>50%</th>\n",
       "      <td>10057.640000</td>\n",
       "      <td>60.0</td>\n",
       "      <td>250.000000</td>\n",
       "      <td>10234.550000</td>\n",
       "      <td>1.000000</td>\n",
       "      <td>-1962.790000</td>\n",
       "    </tr>\n",
       "    <tr>\n",
       "      <th>75%</th>\n",
       "      <td>10285.217500</td>\n",
       "      <td>60.0</td>\n",
       "      <td>250.000000</td>\n",
       "      <td>10513.015000</td>\n",
       "      <td>1.000000</td>\n",
       "      <td>298.670000</td>\n",
       "    </tr>\n",
       "    <tr>\n",
       "      <th>max</th>\n",
       "      <td>754031.010000</td>\n",
       "      <td>60.0</td>\n",
       "      <td>250.000000</td>\n",
       "      <td>457192.390000</td>\n",
       "      <td>1.000000</td>\n",
       "      <td>303442.560000</td>\n",
       "    </tr>\n",
       "  </tbody>\n",
       "</table>\n",
       "</div>"
      ],
      "text/plain": [
       "       hold_by_balance  days_since_hold_deadline  payout_amount  \\\n",
       "count      3852.000000                    3852.0    3460.000000   \n",
       "mean      14481.001755                      60.0     235.202312   \n",
       "std       20856.233225                       0.0      35.512839   \n",
       "min           0.740000                      60.0     150.000000   \n",
       "25%       10037.847500                      60.0     250.000000   \n",
       "50%       10057.640000                      60.0     250.000000   \n",
       "75%       10285.217500                      60.0     250.000000   \n",
       "max      754031.010000                      60.0     250.000000   \n",
       "\n",
       "       ledger_balance_eod  maintained_balance_flag   balance_diff  \n",
       "count         3852.000000              3852.000000    3852.000000  \n",
       "mean         11038.939836                 0.520509   -3442.061918  \n",
       "std          22090.810744                 0.499644   17490.512024  \n",
       "min              0.000000                 0.000000 -380064.840000  \n",
       "25%              1.590000                 0.000000  -10044.037500  \n",
       "50%          10234.550000                 1.000000   -1962.790000  \n",
       "75%          10513.015000                 1.000000     298.670000  \n",
       "max         457192.390000                 1.000000  303442.560000  "
      ]
     },
     "execution_count": 32,
     "metadata": {},
     "output_type": "execute_result"
    }
   ],
   "source": [
    "individual_retention_day_60.describe()"
   ]
  },
  {
   "cell_type": "markdown",
   "metadata": {},
   "source": [
    "### T Test - Determine difference in balance change"
   ]
  },
  {
   "cell_type": "code",
   "execution_count": 33,
   "metadata": {},
   "outputs": [],
   "source": [
    "tt = stats.ttest_ind(individual_retention_day_60.balance_diff, shared_retention_day_60.balance_diff, nan_policy='omit')"
   ]
  },
  {
   "cell_type": "code",
   "execution_count": 34,
   "metadata": {},
   "outputs": [
    {
     "data": {
      "text/plain": [
       "0.245865450868512"
      ]
     },
     "execution_count": 34,
     "metadata": {},
     "output_type": "execute_result"
    }
   ],
   "source": [
    "tt.pvalue"
   ]
  },
  {
   "cell_type": "code",
   "execution_count": 35,
   "metadata": {},
   "outputs": [
    {
     "data": {
      "image/png": "[encoded data removed]",
      "text/plain": [
       "<Figure size 1152x576 with 1 Axes>"
      ]
     },
     "metadata": {
      "needs_background": "light"
     },
     "output_type": "display_data"
    }
   ],
   "source": [
    "fig, ax = plt.subplots(figsize=(16,8))\n",
    "\n",
    "indie = maintain_balance_rate[maintain_balance_rate.type == 'INDIVIDUAL_PROTECTED']\n",
    "shared = maintain_balance_rate[maintain_balance_rate.type == 'SHARED_PROTECTED']\n",
    "\n",
    "month1 = indie.index\n",
    "month2 = shared.index\n",
    "\n",
    "labels = ['July 2019','August 2019','September 2019']\n",
    "\n",
    "width = 0.30\n",
    "ax.set_xticks(indie.index)\n",
    "ax.set_xticklabels(labels)\n",
    "\n",
    "p1 = plt.bar(month1-width/2, indie.balance_diff, width, color = '#24D3C1')\n",
    "p2 = plt.bar(month2-(3-width/2), shared.balance_diff, width, color = '#706AFE')\n",
    "#p2 = plt.bar(month2-2.85, shared.maintained_balance_flag, width, color = '#706AFE')\n",
    "\n",
    "#plt.xlim(-0.5,2.5)\n",
    "#plt.ylim(0,1)\n",
    "plt.xlabel('Month', fontsize = 12)\n",
    "plt.xticks(fontsize = 12)\n",
    "plt.ylabel('Average Balance Difference', fontsize = 12)\n",
    "plt.yticks(fontsize = 12)\n",
    "plt.title('Average Balance Difference 60 Days After \"Hold by\" Deadline', fontsize = 16)\n",
    "plt.legend(['Individual Protected','Shared Protected'], fontsize=10)\n",
    "plt.grid(False)\n",
    "\n",
    "def autolabel(rects):\n",
    "    for rect in rects:\n",
    "        height = rect.get_height()\n",
    "        ax.annotate('${}'.format(round(height,3)),\n",
    "                    xy=(rect.get_x() + rect.get_width() / 2, height),\n",
    "                    textcoords=\"offset points\",\n",
    "                    xytext=(0,-15),\n",
    "                    ha='center', va='bottom')\n",
    "\n",
    "autolabel(p1)\n",
    "autolabel(p2)\n",
    "\n",
    "#plt.axvline(p1_x_value)\n",
    "\n",
    "plt.show()"
   ]
  },
  {
   "cell_type": "code",
   "execution_count": null,
   "metadata": {},
   "outputs": [],
   "source": []
  }
 ],
 "metadata": {
  "kernelspec": {
   "display_name": "Python 3",
   "language": "python",
   "name": "python3"
  },
  "language_info": {
   "codemirror_mode": {
    "name": "ipython",
    "version": 3
   },
   "file_extension": ".py",
   "mimetype": "text/x-python",
   "name": "python",
   "nbconvert_exporter": "python",
   "pygments_lexer": "ipython3",
   "version": "3.7.6"
  }
 },
 "nbformat": 4,
 "nbformat_minor": 4
}
